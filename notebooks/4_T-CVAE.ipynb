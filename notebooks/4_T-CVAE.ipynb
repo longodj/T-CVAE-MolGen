{
 "cells": [
  {
   "cell_type": "code",
   "execution_count": 1,
   "metadata": {},
   "outputs": [
    {
     "name": "stderr",
     "output_type": "stream",
     "text": [
      "RDKit WARNING: [08:27:55] Enabling RDKit 2019.09.1 jupyter extensions\n"
     ]
    }
   ],
   "source": [
    "import copy\n",
    "from dgl import batch, unbatch\n",
    "import rdkit.Chem as Chem\n",
    "from rdkit import RDLogger\n",
    "import torch\n",
    "torch.manual_seed(0)\n",
    "import torch.nn as nn\n",
    "import torch.nn.functional as F\n",
    "\n",
    "import numpy as np\n",
    "np.random.seed(0)\n",
    "\n",
    "import os,sys,inspect\n",
    "sys.path.insert(0,'/home/icarus/app/src') \n",
    "\n",
    "from models.jtnn_vae import DGLJTNNVAE\n",
    "from models.modules import *\n",
    "\n",
    "#from .nnutils import cuda, move_dgl_to_cuda\n",
    "\n",
    "#from .jtnn_enc import DGLJTNNEncoder\n",
    "#from .jtnn_dec import DGLJTNNDecoder\n",
    "#from .mpn import DGLMPN\n",
    "#from .mpn import mol2dgl_single as mol2dgl_enc\n",
    "#from .jtmpn import DGLJTMPN\n",
    "#from .jtmpn import mol2dgl_single as mol2dgl_dec\n",
    "\n",
    "import os,sys,inspect\n",
    "from tqdm import tqdm\n",
    "sys.path.insert(0,'/home/icarus/T-CVAE-MolGen/src')\n",
    "\n",
    "from utils.chem import set_atommap, copy_edit_mol, enum_assemble_nx, \\\n",
    "                            attach_mols_nx, decode_stereo\n",
    "\n",
    "lg = RDLogger.logger()\n",
    "\n",
    "lg.setLevel(RDLogger.CRITICAL)"
   ]
  },
  {
   "cell_type": "code",
   "execution_count": 2,
   "metadata": {},
   "outputs": [],
   "source": [
    "class TCVAE(nn.Module):\n",
    "    def __init__(self, vocab, hidden_size, latent_size, depth):\n",
    "        super(TCVAE, self).__init__()\n",
    "        self.vocab = vocab\n",
    "        self.hidden_size = hidden_size\n",
    "        self.latent_size = latent_size\n",
    "        self.depth = depth\n",
    "        \n",
    "        self.embedding = nn.Embedding(vocab.size(), hidden_size).cuda()\n",
    "        self.mpn = MPN(hidden_size, depth)\n",
    "        self.encoder = None  #\n",
    "        self.decoder = None  #\n",
    "        \n",
    "        self.T_mean, self.T_var = nn.Linear(hidden_size, latent_size // 2), \\\n",
    "                                  nn.Linear(hidden_size, latent_size // 2)\n",
    "        self.G_mean, self.G_var = nn.Linear(hidden_size, latent_size // 2), \\\n",
    "                                  nn.Linear(hidden_size, latent_size // 2)\n",
    "            \n",
    "        self.n_nodes_total = 0\n",
    "        self.n_edges_total = 0\n",
    "        self.n_passes = 0"
   ]
  },
  {
   "cell_type": "markdown",
   "metadata": {},
   "source": [
    "## Posterior\n",
    "\n",
    "As in <cite data-cite=\"7333468/6Y976JUQ\"></cite>\n",
    "\n",
    "$q(z|x,y) \\sim N(\\mu,\\sigma^2I)$, where\n",
    "\n",
    "$\\quad\\quad h = \\text{MultiHead}(c,E_\\text{out}^L(x;y),E_\\text{out}^L(x;y))$\n",
    "\n",
    "$\\quad\\quad \\begin{bmatrix}\\mu\\\\\\log(\\sigma^2)\\end{bmatrix} = hW_q+b_q$"
   ]
  },
  {
   "cell_type": "code",
   "execution_count": 3,
   "metadata": {},
   "outputs": [],
   "source": [
    "    def sample_posterior(self, prob_decode=False):\n",
    "        return"
   ]
  },
  {
   "cell_type": "markdown",
   "metadata": {},
   "source": [
    "### Prior\n",
    "\n",
    "As in <cite data-cite=\"7333468/6Y976JUQ\"></cite>\n",
    "\n",
    "$p_\\theta (z|x) \\sim N(\\mu', \\sigma'^2 I)$, where:\n",
    "\n",
    "$\\quad\\quad h' = \\text{MultiHead}(c, E_\\text{out}^L(x), E_\\text{out}^L(x))$\n",
    "\n",
    "$\\quad\\quad \\begin{bmatrix}\\mu'\\\\\\log(\\sigma'^2)\\end{bmatrix} = MLP_p(h')$"
   ]
  },
  {
   "cell_type": "code",
   "execution_count": 4,
   "metadata": {},
   "outputs": [],
   "source": [
    "    def sample_prior(self, prob_decode=False):\n",
    "        return"
   ]
  },
  {
   "cell_type": "code",
   "execution_count": 5,
   "metadata": {},
   "outputs": [
    {
     "name": "stdout",
     "output_type": "stream",
     "text": [
      "3\n",
      "Loading data...\n",
      "Loading finished.\n",
      "\tNum samples: 220011\n",
      "\tVocab file: /home/icarus/.dgl/jtnn/vocab.txt\n",
      "Initializing Embedding\n",
      "Initializing MPN\n",
      "Initializing JTNN\n",
      "Initializing Decoder\n",
      "Initializing JTMPN\n"
     ]
    }
   ],
   "source": [
    "from utils.data import JTNNDataset, JTNNCollator\n",
    "#torch.multiprocessing.set_sharing_strategy('file_system')\n",
    "from torch.utils.data import DataLoader\n",
    "import torch.optim as optim\n",
    "import torch.optim.lr_scheduler as lr_scheduler\n",
    "\n",
    "class ArgsTemp():\n",
    "    def __init__(self, hidden_size, depth, device):\n",
    "        self.hidden_size = hidden_size\n",
    "        self.batch_size = 350\n",
    "        self.latent_size = 56\n",
    "        self.depth = depth\n",
    "        self.device = device\n",
    "        self.lr = 1e-3\n",
    "        self.beta = 1.0\n",
    "        self.use_cuda = torch.cuda.is_available()\n",
    "        \n",
    "args = ArgsTemp(200,3, device=torch.device(\"cuda:0\" if torch.cuda.is_available() else \"cpu\"))\n",
    "print(args.depth)\n",
    "\n",
    "dataset = JTNNDataset(data='train', vocab='vocab', training=True, intermediates=False)\n",
    "vocab = dataset.vocab\n",
    "\"\"\"\n",
    "dataloader = DataLoader(\n",
    "        dataset,\n",
    "        batch_size=args.batch_size,\n",
    "        shuffle=True,\n",
    "        num_workers=1,\n",
    "        collate_fn=JTNNCollator(vocab, True, intermediates=False),\n",
    "        drop_last=True,\n",
    "        worker_init_fn=None)\n",
    "        \"\"\"\n",
    "\n",
    "model = DGLJTNNVAE(vocab, args.hidden_size, args.latent_size, args.depth, args).cuda()\n",
    "model.share_memory()\n",
    "#if torch.cuda.device_count() > 1:\n",
    "  #print(\"Let's use\", torch.cuda.device_count(), \"GPUs!\")\n",
    "  # dim = 0 [30, xxx] -> [10, ...], [10, ...], [10, ...] on 3 GPUs\n",
    "  #model = nn.DataParallel(model)\n",
    "optimizer = optim.Adam(model.parameters(), lr=args.lr)\n",
    "scheduler = lr_scheduler.ExponentialLR(optimizer, 0.9)\n"
   ]
  },
  {
   "cell_type": "code",
   "execution_count": 6,
   "metadata": {},
   "outputs": [],
   "source": [
    "MAX_EPOCH = 50\n",
    "PRINT_ITER = 20\n",
    "\n",
    "from tqdm import tqdm\n",
    "from os import access, R_OK\n",
    "from os.path import isdir\n",
    "import sys\n",
    "\n",
    "save_path = '/home/icarus/app/data/05_model_output'\n",
    "assert isdir(save_path) and access(save_path, R_OK), \\\n",
    "       \"File {} doesn't exist or isn't readable\".format(save_path)\n",
    "\n",
    "def train():\n",
    "    dataset.training = True\n",
    "    print(\"Loading data...\")\n",
    "    dataloader = DataLoader(\n",
    "            dataset,\n",
    "            batch_size=args.batch_size,\n",
    "            shuffle=True,\n",
    "            pin_memory=True,\n",
    "            num_workers=12,\n",
    "            collate_fn=JTNNCollator(vocab, True),\n",
    "            drop_last=True,\n",
    "            worker_init_fn=None)\n",
    "    dataloader._use_shared_memory = False\n",
    "    last_loss = sys.maxsize\n",
    "    print(\"Beginning Training...\")\n",
    "    for epoch in range(MAX_EPOCH):\n",
    "        word_acc,topo_acc,assm_acc,steo_acc = 0,0,0,0\n",
    "        print(\"Epoch %d: \" % epoch)\n",
    "\n",
    "        for it, batch in tqdm(enumerate(dataloader),total=len(dataloader)):\n",
    "            model.zero_grad()\n",
    "            try:\n",
    "                loss, kl_div, wacc, tacc, sacc, dacc = model(batch, args.beta)\n",
    "            except:\n",
    "                print([t.smiles for t in batch['mol_trees']])\n",
    "                raise\n",
    "            loss.backward()\n",
    "            optimizer.step()\n",
    "\n",
    "            word_acc += wacc\n",
    "            topo_acc += tacc\n",
    "            assm_acc += sacc\n",
    "            steo_acc += dacc\n",
    "\n",
    "            cur_loss = loss.item()\n",
    "            \n",
    "            if (it + 1) % PRINT_ITER == 0:\n",
    "                word_acc = word_acc / PRINT_ITER * 100\n",
    "                topo_acc = topo_acc / PRINT_ITER * 100\n",
    "                assm_acc = assm_acc / PRINT_ITER * 100\n",
    "                steo_acc = steo_acc / PRINT_ITER * 100\n",
    "\n",
    "                print(\"KL: %.1f, Word: %.2f, Topo: %.2f, Assm: %.2f, Steo: %.2f, Loss: %.6f, Delta: %.6f\" % (\n",
    "                    kl_div, word_acc, topo_acc, assm_acc, steo_acc, cur_loss, last_loss - cur_loss))\n",
    "                word_acc,topo_acc,assm_acc,steo_acc = 0,0,0,0\n",
    "                sys.stdout.flush()\n",
    "\n",
    "            if (it + 1) % 1500 == 0: #Fast annealing\n",
    "                scheduler.step()\n",
    "                print(\"learning rate: %.6f\" % scheduler.get_lr()[0])\n",
    "                \n",
    "            if (it + 1) % 100 == 0:\n",
    "                torch.save(model.state_dict(),\n",
    "                            save_path + \"/model.iter-%d-%d\" % (epoch, it + 1))\n",
    "                      \n",
    "            #if last_loss - cur_loss < 1e-5:\n",
    "            #    break\n",
    "            last_loss = cur_loss\n",
    "\n",
    "        scheduler.step()\n",
    "        print(\"learning rate: %.6f\" % scheduler.get_lr()[0])\n",
    "        torch.save(model.state_dict(), save_path + \"/model.iter-\" + str(epoch))"
   ]
  },
  {
   "cell_type": "code",
   "execution_count": null,
   "metadata": {},
   "outputs": [],
   "source": []
  },
  {
   "cell_type": "code",
   "execution_count": null,
   "metadata": {},
   "outputs": [],
   "source": []
  },
  {
   "cell_type": "code",
   "execution_count": 7,
   "metadata": {},
   "outputs": [
    {
     "name": "stdout",
     "output_type": "stream",
     "text": [
      "Loading data...\n",
      "Beginning Training...\n",
      "Epoch 0: \n"
     ]
    },
    {
     "name": "stderr",
     "output_type": "stream",
     "text": [
      "  3%|▎         | 19/628 [03:48<1:09:03,  6.80s/it]"
     ]
    },
    {
     "name": "stdout",
     "output_type": "stream",
     "text": [
      "KL: 0.1, Word: 20.00, Topo: 73.63, Assm: 31.93, Steo: 27.29, Loss: 66.690994, Delta: -1.021431\n"
     ]
    },
    {
     "name": "stderr",
     "output_type": "stream",
     "text": [
      "  6%|▌         | 39/628 [07:12<3:45:28, 22.97s/it]"
     ]
    },
    {
     "name": "stdout",
     "output_type": "stream",
     "text": [
      "KL: 0.8, Word: 30.11, Topo: 84.75, Assm: 41.35, Steo: 31.33, Loss: 56.042809, Delta: 0.124046\n"
     ]
    },
    {
     "name": "stderr",
     "output_type": "stream",
     "text": [
      "  9%|▉         | 59/628 [09:03<36:45,  3.88s/it]  "
     ]
    },
    {
     "name": "stdout",
     "output_type": "stream",
     "text": [
      "KL: 0.8, Word: 39.18, Topo: 88.87, Assm: 50.81, Steo: 31.33, Loss: 50.798950, Delta: -1.014355\n"
     ]
    },
    {
     "name": "stderr",
     "output_type": "stream",
     "text": [
      " 13%|█▎        | 79/628 [12:19<1:07:33,  7.38s/it]"
     ]
    },
    {
     "name": "stdout",
     "output_type": "stream",
     "text": [
      "KL: 0.8, Word: 46.40, Topo: 90.58, Assm: 55.31, Steo: 29.39, Loss: 46.382809, Delta: -0.085739\n"
     ]
    },
    {
     "name": "stderr",
     "output_type": "stream",
     "text": [
      " 16%|█▌        | 99/628 [15:15<1:41:25, 11.50s/it]"
     ]
    },
    {
     "name": "stdout",
     "output_type": "stream",
     "text": [
      "KL: 1.0, Word: 49.99, Topo: 91.54, Assm: 56.65, Steo: 30.85, Loss: 44.333611, Delta: -1.550499\n"
     ]
    },
    {
     "name": "stderr",
     "output_type": "stream",
     "text": [
      " 19%|█▉        | 119/628 [17:46<51:19,  6.05s/it]  "
     ]
    },
    {
     "name": "stdout",
     "output_type": "stream",
     "text": [
      "KL: 1.0, Word: 52.39, Topo: 92.13, Assm: 59.03, Steo: 31.44, Loss: 41.728252, Delta: -0.834881\n"
     ]
    },
    {
     "name": "stderr",
     "output_type": "stream",
     "text": [
      " 22%|██▏       | 139/628 [20:44<1:45:41, 12.97s/it]"
     ]
    },
    {
     "name": "stdout",
     "output_type": "stream",
     "text": [
      "KL: 1.3, Word: 53.94, Topo: 92.60, Assm: 60.64, Steo: 30.58, Loss: 40.135433, Delta: -1.060310\n"
     ]
    },
    {
     "name": "stderr",
     "output_type": "stream",
     "text": [
      " 25%|██▌       | 159/628 [23:16<1:11:19,  9.12s/it]"
     ]
    },
    {
     "name": "stdout",
     "output_type": "stream",
     "text": [
      "KL: 1.6, Word: 54.54, Topo: 92.69, Assm: 62.43, Steo: 35.52, Loss: 38.698708, Delta: -0.634472\n"
     ]
    },
    {
     "name": "stderr",
     "output_type": "stream",
     "text": [
      " 29%|██▊       | 179/628 [26:52<1:15:14, 10.05s/it]"
     ]
    },
    {
     "name": "stdout",
     "output_type": "stream",
     "text": [
      "KL: 1.2, Word: 55.20, Topo: 92.90, Assm: 64.17, Steo: 32.22, Loss: 37.291447, Delta: -0.133656\n"
     ]
    },
    {
     "name": "stderr",
     "output_type": "stream",
     "text": [
      " 32%|███▏      | 199/628 [29:37<2:20:24, 19.64s/it]"
     ]
    },
    {
     "name": "stdout",
     "output_type": "stream",
     "text": [
      "KL: 1.2, Word: 55.59, Topo: 93.08, Assm: 65.56, Steo: 33.08, Loss: 36.709793, Delta: 0.476963\n"
     ]
    },
    {
     "name": "stderr",
     "output_type": "stream",
     "text": [
      " 35%|███▍      | 219/628 [31:48<35:15,  5.17s/it]  "
     ]
    },
    {
     "name": "stdout",
     "output_type": "stream",
     "text": [
      "KL: 1.2, Word: 55.87, Topo: 93.15, Assm: 66.34, Steo: 28.65, Loss: 35.316864, Delta: 1.063980\n"
     ]
    },
    {
     "name": "stderr",
     "output_type": "stream",
     "text": [
      " 38%|███▊      | 239/628 [34:53<51:43,  7.98s/it]  "
     ]
    },
    {
     "name": "stdout",
     "output_type": "stream",
     "text": [
      "KL: 1.1, Word: 56.34, Topo: 93.12, Assm: 67.42, Steo: 30.27, Loss: 36.079334, Delta: -0.106758\n"
     ]
    },
    {
     "name": "stderr",
     "output_type": "stream",
     "text": [
      " 41%|████      | 259/628 [37:54<1:19:06, 12.86s/it]"
     ]
    },
    {
     "name": "stdout",
     "output_type": "stream",
     "text": [
      "KL: 0.9, Word: 56.42, Topo: 93.33, Assm: 67.24, Steo: 28.87, Loss: 34.097462, Delta: 0.845039\n"
     ]
    },
    {
     "name": "stderr",
     "output_type": "stream",
     "text": [
      " 44%|████▍     | 279/628 [40:15<29:04,  5.00s/it]  "
     ]
    },
    {
     "name": "stdout",
     "output_type": "stream",
     "text": [
      "KL: 1.0, Word: 56.57, Topo: 93.38, Assm: 68.27, Steo: 28.33, Loss: 34.405842, Delta: 0.366703\n"
     ]
    },
    {
     "name": "stderr",
     "output_type": "stream",
     "text": [
      " 48%|████▊     | 299/628 [44:08<43:45,  7.98s/it]  "
     ]
    },
    {
     "name": "stdout",
     "output_type": "stream",
     "text": [
      "KL: 1.0, Word: 56.64, Topo: 93.46, Assm: 69.54, Steo: 29.77, Loss: 35.039536, Delta: -0.842480\n"
     ]
    },
    {
     "name": "stderr",
     "output_type": "stream",
     "text": [
      " 51%|█████     | 319/628 [47:14<1:07:50, 13.17s/it]"
     ]
    },
    {
     "name": "stdout",
     "output_type": "stream",
     "text": [
      "KL: 1.0, Word: 56.79, Topo: 93.55, Assm: 70.03, Steo: 30.50, Loss: 33.892181, Delta: 0.339996\n"
     ]
    },
    {
     "name": "stderr",
     "output_type": "stream",
     "text": [
      " 54%|█████▍    | 339/628 [49:54<22:52,  4.75s/it]  "
     ]
    },
    {
     "name": "stdout",
     "output_type": "stream",
     "text": [
      "KL: 0.9, Word: 57.18, Topo: 93.58, Assm: 69.48, Steo: 27.05, Loss: 34.099480, Delta: -1.080658\n"
     ]
    },
    {
     "name": "stderr",
     "output_type": "stream",
     "text": [
      " 57%|█████▋    | 359/628 [52:54<35:50,  8.00s/it]  "
     ]
    },
    {
     "name": "stdout",
     "output_type": "stream",
     "text": [
      "KL: 0.8, Word: 57.01, Topo: 93.70, Assm: 70.01, Steo: 27.54, Loss: 33.953522, Delta: -0.518978\n"
     ]
    },
    {
     "name": "stderr",
     "output_type": "stream",
     "text": [
      " 60%|██████    | 379/628 [55:52<1:11:58, 17.34s/it]"
     ]
    },
    {
     "name": "stdout",
     "output_type": "stream",
     "text": [
      "KL: 0.9, Word: 57.33, Topo: 93.49, Assm: 70.54, Steo: 28.90, Loss: 33.075787, Delta: 0.598927\n"
     ]
    },
    {
     "name": "stderr",
     "output_type": "stream",
     "text": [
      " 64%|██████▎   | 399/628 [57:54<17:29,  4.58s/it]  "
     ]
    },
    {
     "name": "stdout",
     "output_type": "stream",
     "text": [
      "KL: 1.0, Word: 57.65, Topo: 93.57, Assm: 71.30, Steo: 27.04, Loss: 33.569759, Delta: -0.515316\n"
     ]
    },
    {
     "name": "stderr",
     "output_type": "stream",
     "text": [
      " 67%|██████▋   | 419/628 [1:00:55<27:12,  7.81s/it]  "
     ]
    },
    {
     "name": "stdout",
     "output_type": "stream",
     "text": [
      "KL: 0.9, Word: 57.70, Topo: 93.63, Assm: 71.35, Steo: 28.55, Loss: 33.741669, Delta: -0.092270\n"
     ]
    },
    {
     "name": "stderr",
     "output_type": "stream",
     "text": [
      " 70%|██████▉   | 439/628 [1:04:12<1:13:04, 23.20s/it]"
     ]
    },
    {
     "name": "stdout",
     "output_type": "stream",
     "text": [
      "KL: 1.0, Word: 57.97, Topo: 93.71, Assm: 70.95, Steo: 27.92, Loss: 33.383160, Delta: -0.161720\n"
     ]
    },
    {
     "name": "stderr",
     "output_type": "stream",
     "text": [
      " 73%|███████▎  | 459/628 [1:06:21<13:22,  4.75s/it]  "
     ]
    },
    {
     "name": "stdout",
     "output_type": "stream",
     "text": [
      "KL: 0.9, Word: 57.83, Topo: 93.81, Assm: 71.45, Steo: 26.80, Loss: 32.170933, Delta: 0.711266\n"
     ]
    },
    {
     "name": "stderr",
     "output_type": "stream",
     "text": [
      " 76%|███████▋  | 479/628 [1:09:24<18:31,  7.46s/it]"
     ]
    },
    {
     "name": "stdout",
     "output_type": "stream",
     "text": [
      "KL: 0.8, Word: 57.84, Topo: 93.86, Assm: 71.87, Steo: 26.21, Loss: 32.917568, Delta: -0.474979\n"
     ]
    },
    {
     "name": "stderr",
     "output_type": "stream",
     "text": [
      " 79%|███████▉  | 499/628 [1:12:16<44:46, 20.82s/it]"
     ]
    },
    {
     "name": "stdout",
     "output_type": "stream",
     "text": [
      "KL: 1.0, Word: 58.21, Topo: 93.83, Assm: 72.05, Steo: 27.97, Loss: 32.481724, Delta: -0.016621\n"
     ]
    },
    {
     "name": "stderr",
     "output_type": "stream",
     "text": [
      " 83%|████████▎ | 519/628 [1:14:58<09:30,  5.23s/it]"
     ]
    },
    {
     "name": "stdout",
     "output_type": "stream",
     "text": [
      "KL: 0.9, Word: 58.13, Topo: 93.89, Assm: 72.05, Steo: 28.90, Loss: 32.583691, Delta: 0.064186\n"
     ]
    },
    {
     "name": "stderr",
     "output_type": "stream",
     "text": [
      " 86%|████████▌ | 539/628 [1:17:44<10:45,  7.25s/it]"
     ]
    },
    {
     "name": "stdout",
     "output_type": "stream",
     "text": [
      "KL: 1.0, Word: 57.99, Topo: 93.86, Assm: 72.69, Steo: 27.35, Loss: 32.085445, Delta: 0.615997\n"
     ]
    },
    {
     "name": "stderr",
     "output_type": "stream",
     "text": [
      " 89%|████████▉ | 559/628 [1:21:03<18:37, 16.19s/it]"
     ]
    },
    {
     "name": "stdout",
     "output_type": "stream",
     "text": [
      "KL: 1.1, Word: 58.29, Topo: 93.93, Assm: 72.94, Steo: 29.02, Loss: 32.583992, Delta: -0.151691\n"
     ]
    },
    {
     "name": "stderr",
     "output_type": "stream",
     "text": [
      " 92%|█████████▏| 579/628 [1:23:07<03:50,  4.71s/it]"
     ]
    },
    {
     "name": "stdout",
     "output_type": "stream",
     "text": [
      "KL: 0.9, Word: 58.22, Topo: 93.92, Assm: 73.01, Steo: 30.30, Loss: 32.009804, Delta: 1.207069\n"
     ]
    },
    {
     "name": "stderr",
     "output_type": "stream",
     "text": [
      " 95%|█████████▌| 599/628 [1:25:55<03:26,  7.12s/it]"
     ]
    },
    {
     "name": "stdout",
     "output_type": "stream",
     "text": [
      "KL: 0.8, Word: 58.52, Topo: 94.02, Assm: 73.07, Steo: 28.29, Loss: 32.172657, Delta: 0.923794\n"
     ]
    },
    {
     "name": "stderr",
     "output_type": "stream",
     "text": [
      " 99%|█████████▊| 619/628 [1:29:17<00:21,  2.44s/it]"
     ]
    },
    {
     "name": "stdout",
     "output_type": "stream",
     "text": [
      "KL: 1.0, Word: 58.56, Topo: 94.10, Assm: 73.15, Steo: 23.38, Loss: 31.393181, Delta: 1.087078\n"
     ]
    },
    {
     "name": "stderr",
     "output_type": "stream",
     "text": [
      "100%|██████████| 628/628 [1:29:32<00:00,  8.56s/it]"
     ]
    },
    {
     "name": "stdout",
     "output_type": "stream",
     "text": [
      "learning rate: 0.000900\n",
      "Epoch 1: \n"
     ]
    },
    {
     "name": "stderr",
     "output_type": "stream",
     "text": [
      "\n",
      "  3%|▎         | 19/628 [04:07<1:06:38,  6.57s/it]"
     ]
    },
    {
     "name": "stdout",
     "output_type": "stream",
     "text": [
      "KL: 1.0, Word: 58.58, Topo: 94.11, Assm: 74.28, Steo: 26.69, Loss: 31.110888, Delta: 0.696451\n"
     ]
    },
    {
     "name": "stderr",
     "output_type": "stream",
     "text": [
      "  6%|▌         | 39/628 [07:10<2:16:46, 13.93s/it]"
     ]
    },
    {
     "name": "stdout",
     "output_type": "stream",
     "text": [
      "KL: 0.9, Word: 58.71, Topo: 94.08, Assm: 73.73, Steo: 25.27, Loss: 31.473078, Delta: 0.733130\n"
     ]
    },
    {
     "name": "stderr",
     "output_type": "stream",
     "text": [
      "  9%|▉         | 59/628 [09:27<47:58,  5.06s/it]  "
     ]
    },
    {
     "name": "stdout",
     "output_type": "stream",
     "text": [
      "KL: 1.0, Word: 58.78, Topo: 94.06, Assm: 74.18, Steo: 26.60, Loss: 31.829498, Delta: -0.807379\n"
     ]
    },
    {
     "name": "stderr",
     "output_type": "stream",
     "text": [
      " 13%|█▎        | 79/628 [12:33<55:29,  6.06s/it]  "
     ]
    },
    {
     "name": "stdout",
     "output_type": "stream",
     "text": [
      "KL: 0.9, Word: 58.58, Topo: 94.06, Assm: 74.25, Steo: 30.52, Loss: 31.033461, Delta: 0.226658\n"
     ]
    },
    {
     "name": "stderr",
     "output_type": "stream",
     "text": [
      " 16%|█▌        | 99/628 [15:41<1:45:39, 11.98s/it]"
     ]
    },
    {
     "name": "stdout",
     "output_type": "stream",
     "text": [
      "KL: 0.9, Word: 58.65, Topo: 94.16, Assm: 74.24, Steo: 28.00, Loss: 31.649208, Delta: 0.070528\n"
     ]
    },
    {
     "name": "stderr",
     "output_type": "stream",
     "text": [
      " 19%|█▉        | 119/628 [18:08<38:30,  4.54s/it]  "
     ]
    },
    {
     "name": "stdout",
     "output_type": "stream",
     "text": [
      "KL: 1.0, Word: 58.70, Topo: 94.26, Assm: 74.69, Steo: 23.40, Loss: 31.303322, Delta: -0.409109\n"
     ]
    },
    {
     "name": "stderr",
     "output_type": "stream",
     "text": [
      " 22%|██▏       | 139/628 [21:03<41:31,  5.09s/it]  "
     ]
    },
    {
     "name": "stdout",
     "output_type": "stream",
     "text": [
      "KL: 0.9, Word: 58.70, Topo: 94.19, Assm: 74.41, Steo: 28.72, Loss: 31.232355, Delta: 0.142033\n"
     ]
    },
    {
     "name": "stderr",
     "output_type": "stream",
     "text": [
      " 25%|██▌       | 159/628 [24:16<1:37:55, 12.53s/it]"
     ]
    },
    {
     "name": "stdout",
     "output_type": "stream",
     "text": [
      "KL: 1.0, Word: 58.87, Topo: 94.17, Assm: 74.44, Steo: 29.54, Loss: 31.542109, Delta: -0.638308\n"
     ]
    },
    {
     "name": "stderr",
     "output_type": "stream",
     "text": [
      " 29%|██▊       | 179/628 [26:18<30:29,  4.08s/it]  "
     ]
    },
    {
     "name": "stdout",
     "output_type": "stream",
     "text": [
      "KL: 1.0, Word: 58.89, Topo: 94.19, Assm: 74.91, Steo: 25.80, Loss: 31.186951, Delta: 0.386005\n"
     ]
    },
    {
     "name": "stderr",
     "output_type": "stream",
     "text": [
      " 32%|███▏      | 199/628 [29:16<43:47,  6.12s/it]  "
     ]
    },
    {
     "name": "stdout",
     "output_type": "stream",
     "text": [
      "KL: 1.0, Word: 58.78, Topo: 94.08, Assm: 74.79, Steo: 27.81, Loss: 31.744499, Delta: -0.023743\n"
     ]
    },
    {
     "name": "stderr",
     "output_type": "stream",
     "text": [
      " 35%|███▍      | 219/628 [32:15<1:00:03,  8.81s/it]"
     ]
    },
    {
     "name": "stdout",
     "output_type": "stream",
     "text": [
      "KL: 1.1, Word: 58.84, Topo: 94.22, Assm: 75.04, Steo: 29.93, Loss: 31.766392, Delta: -0.097967\n"
     ]
    },
    {
     "name": "stderr",
     "output_type": "stream",
     "text": [
      " 38%|███▊      | 239/628 [35:05<28:20,  4.37s/it]  "
     ]
    },
    {
     "name": "stdout",
     "output_type": "stream",
     "text": [
      "KL: 1.0, Word: 59.12, Topo: 94.38, Assm: 75.04, Steo: 28.37, Loss: 31.015980, Delta: 0.288607\n"
     ]
    },
    {
     "name": "stderr",
     "output_type": "stream",
     "text": [
      " 41%|████      | 259/628 [37:29<29:03,  4.73s/it]  "
     ]
    },
    {
     "name": "stdout",
     "output_type": "stream",
     "text": [
      "KL: 1.0, Word: 59.04, Topo: 94.31, Assm: 75.19, Steo: 27.33, Loss: 30.854376, Delta: 0.071880\n"
     ]
    },
    {
     "name": "stderr",
     "output_type": "stream",
     "text": [
      " 44%|████▍     | 279/628 [40:30<48:02,  8.26s/it]  "
     ]
    },
    {
     "name": "stdout",
     "output_type": "stream",
     "text": [
      "KL: 1.0, Word: 59.01, Topo: 94.33, Assm: 75.27, Steo: 26.38, Loss: 31.430140, Delta: -0.112406\n"
     ]
    },
    {
     "name": "stderr",
     "output_type": "stream",
     "text": [
      " 48%|████▊     | 299/628 [43:20<1:03:13, 11.53s/it]"
     ]
    },
    {
     "name": "stdout",
     "output_type": "stream",
     "text": [
      "KL: 1.0, Word: 59.18, Topo: 94.28, Assm: 75.53, Steo: 29.25, Loss: 30.943493, Delta: 0.150566\n"
     ]
    },
    {
     "name": "stderr",
     "output_type": "stream",
     "text": [
      " 51%|█████     | 319/628 [45:56<36:41,  7.13s/it]  "
     ]
    },
    {
     "name": "stdout",
     "output_type": "stream",
     "text": [
      "KL: 1.0, Word: 59.43, Topo: 94.39, Assm: 75.66, Steo: 28.28, Loss: 31.032104, Delta: 0.212664\n"
     ]
    },
    {
     "name": "stderr",
     "output_type": "stream",
     "text": [
      " 54%|█████▍    | 339/628 [48:38<38:04,  7.90s/it]  "
     ]
    },
    {
     "name": "stdout",
     "output_type": "stream",
     "text": [
      "KL: 1.0, Word: 59.08, Topo: 94.28, Assm: 75.77, Steo: 28.39, Loss: 30.939226, Delta: 0.125141\n"
     ]
    },
    {
     "name": "stderr",
     "output_type": "stream",
     "text": [
      " 57%|█████▋    | 359/628 [51:40<43:17,  9.66s/it]  "
     ]
    },
    {
     "name": "stdout",
     "output_type": "stream",
     "text": [
      "KL: 0.9, Word: 59.07, Topo: 94.38, Assm: 75.81, Steo: 23.79, Loss: 31.376236, Delta: 0.205757\n"
     ]
    },
    {
     "name": "stderr",
     "output_type": "stream",
     "text": [
      " 60%|██████    | 379/628 [54:25<24:54,  6.00s/it]  "
     ]
    },
    {
     "name": "stdout",
     "output_type": "stream",
     "text": [
      "KL: 1.1, Word: 59.26, Topo: 94.35, Assm: 75.86, Steo: 27.45, Loss: 31.755093, Delta: -0.757301\n"
     ]
    },
    {
     "name": "stderr",
     "output_type": "stream",
     "text": [
      " 64%|██████▎   | 399/628 [57:25<51:43, 13.55s/it]  "
     ]
    },
    {
     "name": "stdout",
     "output_type": "stream",
     "text": [
      "KL: 1.0, Word: 59.13, Topo: 94.37, Assm: 75.69, Steo: 30.87, Loss: 30.930008, Delta: -0.043879\n"
     ]
    },
    {
     "name": "stderr",
     "output_type": "stream",
     "text": [
      " 67%|██████▋   | 419/628 [59:43<20:20,  5.84s/it]  "
     ]
    },
    {
     "name": "stdout",
     "output_type": "stream",
     "text": [
      "KL: 1.1, Word: 59.40, Topo: 94.38, Assm: 75.60, Steo: 29.38, Loss: 31.098349, Delta: -0.763536\n"
     ]
    },
    {
     "name": "stderr",
     "output_type": "stream",
     "text": [
      " 70%|██████▉   | 439/628 [1:02:45<17:47,  5.65s/it]  "
     ]
    },
    {
     "name": "stdout",
     "output_type": "stream",
     "text": [
      "KL: 0.9, Word: 59.58, Topo: 94.57, Assm: 76.38, Steo: 28.38, Loss: 30.512894, Delta: 0.447886\n"
     ]
    },
    {
     "name": "stderr",
     "output_type": "stream",
     "text": [
      " 73%|███████▎  | 459/628 [1:06:07<24:04,  8.54s/it]  "
     ]
    },
    {
     "name": "stdout",
     "output_type": "stream",
     "text": [
      "KL: 1.0, Word: 59.62, Topo: 94.47, Assm: 75.76, Steo: 31.28, Loss: 30.506632, Delta: 0.177830\n"
     ]
    },
    {
     "name": "stderr",
     "output_type": "stream",
     "text": [
      " 76%|███████▋  | 479/628 [1:08:21<11:11,  4.51s/it]"
     ]
    },
    {
     "name": "stdout",
     "output_type": "stream",
     "text": [
      "KL: 1.0, Word: 59.27, Topo: 94.61, Assm: 76.51, Steo: 31.19, Loss: 30.951612, Delta: -0.379509\n"
     ]
    },
    {
     "name": "stderr",
     "output_type": "stream",
     "text": [
      " 79%|███████▉  | 499/628 [1:11:24<14:48,  6.89s/it]"
     ]
    },
    {
     "name": "stdout",
     "output_type": "stream",
     "text": [
      "KL: 1.0, Word: 59.55, Topo: 94.50, Assm: 76.38, Steo: 27.25, Loss: 30.451078, Delta: 0.109652\n"
     ]
    },
    {
     "name": "stderr",
     "output_type": "stream",
     "text": [
      " 83%|████████▎ | 519/628 [1:15:24<50:33, 27.83s/it]  "
     ]
    },
    {
     "name": "stdout",
     "output_type": "stream",
     "text": [
      "KL: 1.1, Word: 59.42, Topo: 94.45, Assm: 75.89, Steo: 32.75, Loss: 30.701025, Delta: -0.209267\n"
     ]
    },
    {
     "name": "stderr",
     "output_type": "stream",
     "text": [
      " 86%|████████▌ | 539/628 [1:16:55<06:03,  4.09s/it]"
     ]
    },
    {
     "name": "stdout",
     "output_type": "stream",
     "text": [
      "KL: 1.0, Word: 59.09, Topo: 94.50, Assm: 76.34, Steo: 29.31, Loss: 31.522182, Delta: -0.604328\n"
     ]
    },
    {
     "name": "stderr",
     "output_type": "stream",
     "text": [
      " 89%|████████▉ | 559/628 [1:20:12<07:57,  6.92s/it]"
     ]
    },
    {
     "name": "stdout",
     "output_type": "stream",
     "text": [
      "KL: 1.0, Word: 59.26, Topo: 94.58, Assm: 76.05, Steo: 27.75, Loss: 30.411140, Delta: 0.526186\n"
     ]
    },
    {
     "name": "stderr",
     "output_type": "stream",
     "text": [
      " 92%|█████████▏| 579/628 [1:23:37<04:57,  6.06s/it]"
     ]
    },
    {
     "name": "stdout",
     "output_type": "stream",
     "text": [
      "KL: 0.9, Word: 59.64, Topo: 94.42, Assm: 75.68, Steo: 34.01, Loss: 30.988131, Delta: -0.103933\n"
     ]
    },
    {
     "name": "stderr",
     "output_type": "stream",
     "text": [
      " 95%|█████████▌| 599/628 [1:26:05<02:09,  4.48s/it]"
     ]
    },
    {
     "name": "stdout",
     "output_type": "stream",
     "text": [
      "KL: 1.0, Word: 59.66, Topo: 94.40, Assm: 76.61, Steo: 30.65, Loss: 30.958740, Delta: 0.171646\n"
     ]
    },
    {
     "name": "stderr",
     "output_type": "stream",
     "text": [
      " 99%|█████████▊| 619/628 [1:29:29<01:01,  6.84s/it]"
     ]
    },
    {
     "name": "stdout",
     "output_type": "stream",
     "text": [
      "KL: 1.0, Word: 59.33, Topo: 94.46, Assm: 76.18, Steo: 31.87, Loss: 30.692131, Delta: -0.709757\n"
     ]
    },
    {
     "name": "stderr",
     "output_type": "stream",
     "text": [
      "100%|██████████| 628/628 [1:29:49<00:00,  8.58s/it]"
     ]
    },
    {
     "name": "stdout",
     "output_type": "stream",
     "text": [
      "learning rate: 0.000810\n",
      "Epoch 2: \n"
     ]
    },
    {
     "name": "stderr",
     "output_type": "stream",
     "text": [
      "\n",
      "  3%|▎         | 19/628 [03:46<50:21,  4.96s/it]   "
     ]
    },
    {
     "name": "stdout",
     "output_type": "stream",
     "text": [
      "KL: 1.0, Word: 59.69, Topo: 94.59, Assm: 77.18, Steo: 27.55, Loss: 30.045231, Delta: -0.271477\n"
     ]
    },
    {
     "name": "stderr",
     "output_type": "stream",
     "text": [
      "  6%|▌         | 39/628 [06:58<2:13:42, 13.62s/it]"
     ]
    },
    {
     "name": "stdout",
     "output_type": "stream",
     "text": [
      "KL: 1.0, Word: 59.81, Topo: 94.48, Assm: 77.07, Steo: 31.52, Loss: 30.470297, Delta: -0.403978\n"
     ]
    },
    {
     "name": "stderr",
     "output_type": "stream",
     "text": [
      "  9%|▉         | 59/628 [09:12<41:27,  4.37s/it]  "
     ]
    },
    {
     "name": "stdout",
     "output_type": "stream",
     "text": [
      "KL: 1.0, Word: 59.56, Topo: 94.59, Assm: 76.60, Steo: 28.09, Loss: 30.651028, Delta: -0.787212\n"
     ]
    },
    {
     "name": "stderr",
     "output_type": "stream",
     "text": [
      " 13%|█▎        | 79/628 [12:30<57:56,  6.33s/it]  "
     ]
    },
    {
     "name": "stdout",
     "output_type": "stream",
     "text": [
      "KL: 1.0, Word: 59.60, Topo: 94.62, Assm: 77.41, Steo: 31.31, Loss: 30.323420, Delta: 0.011894\n"
     ]
    },
    {
     "name": "stderr",
     "output_type": "stream",
     "text": [
      " 16%|█▌        | 99/628 [15:36<2:11:52, 14.96s/it]"
     ]
    },
    {
     "name": "stdout",
     "output_type": "stream",
     "text": [
      "KL: 1.0, Word: 59.84, Topo: 94.70, Assm: 77.00, Steo: 29.01, Loss: 30.171867, Delta: 0.781565\n"
     ]
    },
    {
     "name": "stderr",
     "output_type": "stream",
     "text": [
      " 19%|█▉        | 119/628 [17:40<41:09,  4.85s/it]  "
     ]
    },
    {
     "name": "stdout",
     "output_type": "stream",
     "text": [
      "KL: 1.0, Word: 59.64, Topo: 94.65, Assm: 76.86, Steo: 30.95, Loss: 30.816250, Delta: -0.177923\n"
     ]
    },
    {
     "name": "stderr",
     "output_type": "stream",
     "text": [
      " 22%|██▏       | 139/628 [20:42<51:34,  6.33s/it]  "
     ]
    },
    {
     "name": "stdout",
     "output_type": "stream",
     "text": [
      "KL: 1.0, Word: 59.81, Topo: 94.65, Assm: 76.83, Steo: 30.40, Loss: 30.428251, Delta: 0.271229\n"
     ]
    },
    {
     "name": "stderr",
     "output_type": "stream",
     "text": [
      " 25%|██▌       | 159/628 [23:42<1:55:30, 14.78s/it]"
     ]
    },
    {
     "name": "stdout",
     "output_type": "stream",
     "text": [
      "KL: 1.0, Word: 59.82, Topo: 94.68, Assm: 77.18, Steo: 33.22, Loss: 30.440168, Delta: -0.401974\n"
     ]
    },
    {
     "name": "stderr",
     "output_type": "stream",
     "text": [
      " 29%|██▊       | 179/628 [26:43<40:39,  5.43s/it]  "
     ]
    },
    {
     "name": "stdout",
     "output_type": "stream",
     "text": [
      "KL: 1.0, Word: 59.82, Topo: 94.64, Assm: 77.51, Steo: 32.81, Loss: 30.652216, Delta: -0.061300\n"
     ]
    },
    {
     "name": "stderr",
     "output_type": "stream",
     "text": [
      " 32%|███▏      | 199/628 [29:37<1:01:27,  8.60s/it]"
     ]
    },
    {
     "name": "stdout",
     "output_type": "stream",
     "text": [
      "KL: 1.0, Word: 60.09, Topo: 94.67, Assm: 77.61, Steo: 32.47, Loss: 29.974176, Delta: -0.214119\n"
     ]
    },
    {
     "name": "stderr",
     "output_type": "stream",
     "text": [
      " 35%|███▍      | 219/628 [32:17<1:13:16, 10.75s/it]"
     ]
    },
    {
     "name": "stdout",
     "output_type": "stream",
     "text": [
      "KL: 1.1, Word: 60.01, Topo: 94.71, Assm: 77.43, Steo: 29.94, Loss: 30.075224, Delta: -0.465319\n"
     ]
    },
    {
     "name": "stderr",
     "output_type": "stream",
     "text": [
      " 38%|███▊      | 239/628 [35:12<31:02,  4.79s/it]  "
     ]
    },
    {
     "name": "stdout",
     "output_type": "stream",
     "text": [
      "KL: 1.0, Word: 59.72, Topo: 94.66, Assm: 77.63, Steo: 30.53, Loss: 29.971336, Delta: -0.026598\n"
     ]
    },
    {
     "name": "stderr",
     "output_type": "stream",
     "text": [
      " 41%|████      | 259/628 [38:06<49:40,  8.08s/it]  "
     ]
    },
    {
     "name": "stdout",
     "output_type": "stream",
     "text": [
      "KL: 1.0, Word: 59.76, Topo: 94.71, Assm: 77.33, Steo: 26.02, Loss: 30.132479, Delta: -0.169291\n"
     ]
    },
    {
     "name": "stderr",
     "output_type": "stream",
     "text": [
      " 44%|████▍     | 279/628 [40:51<24:19,  4.18s/it]  "
     ]
    },
    {
     "name": "stdout",
     "output_type": "stream",
     "text": [
      "KL: 1.0, Word: 59.85, Topo: 94.76, Assm: 76.72, Steo: 30.72, Loss: 30.067556, Delta: -0.369997\n"
     ]
    },
    {
     "name": "stderr",
     "output_type": "stream",
     "text": [
      " 48%|████▊     | 299/628 [43:39<29:00,  5.29s/it]  "
     ]
    },
    {
     "name": "stdout",
     "output_type": "stream",
     "text": [
      "KL: 1.0, Word: 59.93, Topo: 94.79, Assm: 77.99, Steo: 31.03, Loss: 29.756643, Delta: 0.331556\n"
     ]
    },
    {
     "name": "stderr",
     "output_type": "stream",
     "text": [
      " 51%|█████     | 319/628 [46:48<49:21,  9.58s/it]  "
     ]
    },
    {
     "name": "stdout",
     "output_type": "stream",
     "text": [
      "KL: 1.0, Word: 59.89, Topo: 94.69, Assm: 77.07, Steo: 31.85, Loss: 29.315945, Delta: 0.743355\n"
     ]
    },
    {
     "name": "stderr",
     "output_type": "stream",
     "text": [
      " 54%|█████▍    | 339/628 [49:04<22:15,  4.62s/it]  "
     ]
    },
    {
     "name": "stdout",
     "output_type": "stream",
     "text": [
      "KL: 1.0, Word: 59.91, Topo: 94.67, Assm: 77.72, Steo: 32.89, Loss: 29.819572, Delta: 0.629190\n"
     ]
    },
    {
     "name": "stderr",
     "output_type": "stream",
     "text": [
      " 57%|█████▋    | 359/628 [51:46<20:27,  4.56s/it]  "
     ]
    },
    {
     "name": "stdout",
     "output_type": "stream",
     "text": [
      "KL: 1.0, Word: 60.16, Topo: 94.81, Assm: 77.67, Steo: 29.17, Loss: 30.100533, Delta: 0.207323\n"
     ]
    },
    {
     "name": "stderr",
     "output_type": "stream",
     "text": [
      " 60%|██████    | 379/628 [55:10<33:15,  8.02s/it]  "
     ]
    },
    {
     "name": "stdout",
     "output_type": "stream",
     "text": [
      "KL: 1.0, Word: 60.06, Topo: 94.60, Assm: 78.15, Steo: 29.67, Loss: 30.325207, Delta: -0.158333\n"
     ]
    },
    {
     "name": "stderr",
     "output_type": "stream",
     "text": [
      " 64%|██████▎   | 399/628 [57:47<36:57,  9.68s/it]  "
     ]
    },
    {
     "name": "stdout",
     "output_type": "stream",
     "text": [
      "KL: 1.2, Word: 59.65, Topo: 94.80, Assm: 77.82, Steo: 34.33, Loss: 29.802151, Delta: 0.858004\n"
     ]
    },
    {
     "name": "stderr",
     "output_type": "stream",
     "text": [
      " 67%|██████▋   | 419/628 [1:01:33<20:27,  5.87s/it]  "
     ]
    },
    {
     "name": "stdout",
     "output_type": "stream",
     "text": [
      "KL: 1.0, Word: 59.72, Topo: 94.63, Assm: 77.75, Steo: 27.10, Loss: 30.468138, Delta: 0.067579\n"
     ]
    },
    {
     "name": "stderr",
     "output_type": "stream",
     "text": [
      " 70%|██████▉   | 439/628 [1:04:04<33:34, 10.66s/it]  "
     ]
    },
    {
     "name": "stdout",
     "output_type": "stream",
     "text": [
      "KL: 1.0, Word: 60.16, Topo: 94.71, Assm: 77.82, Steo: 29.57, Loss: 30.542118, Delta: -0.577440\n"
     ]
    },
    {
     "name": "stderr",
     "output_type": "stream",
     "text": [
      " 73%|███████▎  | 459/628 [1:06:02<11:23,  4.04s/it]"
     ]
    },
    {
     "name": "stdout",
     "output_type": "stream",
     "text": [
      "KL: 1.1, Word: 60.15, Topo: 94.79, Assm: 78.25, Steo: 31.38, Loss: 29.690935, Delta: 0.736540\n"
     ]
    },
    {
     "name": "stderr",
     "output_type": "stream",
     "text": [
      " 76%|███████▋  | 479/628 [1:09:20<13:25,  5.41s/it]  "
     ]
    },
    {
     "name": "stdout",
     "output_type": "stream",
     "text": [
      "KL: 1.0, Word: 59.97, Topo: 94.85, Assm: 78.46, Steo: 29.19, Loss: 29.601782, Delta: -0.148376\n"
     ]
    },
    {
     "name": "stderr",
     "output_type": "stream",
     "text": [
      " 79%|███████▉  | 499/628 [1:12:24<18:13,  8.48s/it]"
     ]
    },
    {
     "name": "stdout",
     "output_type": "stream",
     "text": [
      "KL: 1.0, Word: 60.01, Topo: 94.81, Assm: 77.96, Steo: 29.63, Loss: 29.500988, Delta: 0.463432\n"
     ]
    },
    {
     "name": "stderr",
     "output_type": "stream",
     "text": [
      " 83%|████████▎ | 519/628 [1:14:58<08:41,  4.78s/it]"
     ]
    },
    {
     "name": "stdout",
     "output_type": "stream",
     "text": [
      "KL: 1.0, Word: 59.92, Topo: 94.92, Assm: 78.32, Steo: 32.04, Loss: 29.824104, Delta: -0.298809\n"
     ]
    },
    {
     "name": "stderr",
     "output_type": "stream",
     "text": [
      " 86%|████████▌ | 539/628 [1:17:55<08:26,  5.69s/it]"
     ]
    },
    {
     "name": "stdout",
     "output_type": "stream",
     "text": [
      "KL: 1.0, Word: 60.15, Topo: 94.62, Assm: 77.99, Steo: 33.24, Loss: 29.812492, Delta: -0.109535\n"
     ]
    },
    {
     "name": "stderr",
     "output_type": "stream",
     "text": [
      " 89%|████████▉ | 559/628 [1:21:22<13:41, 11.91s/it]"
     ]
    },
    {
     "name": "stdout",
     "output_type": "stream",
     "text": [
      "KL: 1.0, Word: 60.10, Topo: 94.74, Assm: 78.05, Steo: 32.44, Loss: 29.478935, Delta: 0.328014\n"
     ]
    },
    {
     "name": "stderr",
     "output_type": "stream",
     "text": [
      " 92%|█████████▏| 579/628 [1:23:21<03:45,  4.60s/it]"
     ]
    },
    {
     "name": "stdout",
     "output_type": "stream",
     "text": [
      "KL: 1.0, Word: 59.81, Topo: 94.86, Assm: 77.77, Steo: 30.31, Loss: 30.095285, Delta: -0.618998\n"
     ]
    },
    {
     "name": "stderr",
     "output_type": "stream",
     "text": [
      " 95%|█████████▌| 599/628 [1:26:32<02:25,  5.03s/it]"
     ]
    },
    {
     "name": "stdout",
     "output_type": "stream",
     "text": [
      "KL: 1.0, Word: 60.03, Topo: 94.78, Assm: 78.08, Steo: 30.41, Loss: 29.574100, Delta: 0.001072\n"
     ]
    },
    {
     "name": "stderr",
     "output_type": "stream",
     "text": [
      " 99%|█████████▊| 619/628 [1:30:08<01:20,  8.94s/it]"
     ]
    },
    {
     "name": "stdout",
     "output_type": "stream",
     "text": [
      "KL: 1.0, Word: 60.26, Topo: 94.86, Assm: 78.05, Steo: 31.00, Loss: 29.725216, Delta: 0.173376\n"
     ]
    },
    {
     "name": "stderr",
     "output_type": "stream",
     "text": [
      "100%|██████████| 628/628 [1:30:49<00:00,  8.68s/it]\n"
     ]
    },
    {
     "name": "stdout",
     "output_type": "stream",
     "text": [
      "learning rate: 0.000729\n",
      "Epoch 3: \n"
     ]
    },
    {
     "name": "stderr",
     "output_type": "stream",
     "text": [
      "  3%|▎         | 19/628 [03:52<54:25,  5.36s/it]   "
     ]
    },
    {
     "name": "stdout",
     "output_type": "stream",
     "text": [
      "KL: 1.0, Word: 60.27, Topo: 94.86, Assm: 78.32, Steo: 30.34, Loss: 29.923973, Delta: -0.147261\n"
     ]
    },
    {
     "name": "stderr",
     "output_type": "stream",
     "text": [
      "  6%|▌         | 39/628 [07:05<2:11:24, 13.39s/it]"
     ]
    },
    {
     "name": "stdout",
     "output_type": "stream",
     "text": [
      "KL: 1.0, Word: 60.38, Topo: 94.82, Assm: 78.96, Steo: 32.66, Loss: 29.234980, Delta: 0.509592\n"
     ]
    },
    {
     "name": "stderr",
     "output_type": "stream",
     "text": [
      "  9%|▉         | 59/628 [09:39<39:47,  4.20s/it]  "
     ]
    },
    {
     "name": "stdout",
     "output_type": "stream",
     "text": [
      "KL: 1.1, Word: 60.33, Topo: 94.87, Assm: 78.39, Steo: 30.26, Loss: 29.692696, Delta: -0.398027\n"
     ]
    },
    {
     "name": "stderr",
     "output_type": "stream",
     "text": [
      " 13%|█▎        | 79/628 [12:35<50:36,  5.53s/it]  "
     ]
    },
    {
     "name": "stdout",
     "output_type": "stream",
     "text": [
      "KL: 1.0, Word: 60.24, Topo: 94.93, Assm: 78.15, Steo: 33.96, Loss: 29.349636, Delta: 0.328260\n"
     ]
    },
    {
     "name": "stderr",
     "output_type": "stream",
     "text": [
      " 16%|█▌        | 99/628 [15:47<2:08:53, 14.62s/it]"
     ]
    },
    {
     "name": "stdout",
     "output_type": "stream",
     "text": [
      "KL: 1.0, Word: 60.28, Topo: 94.90, Assm: 78.77, Steo: 34.93, Loss: 29.416794, Delta: -0.195383\n"
     ]
    },
    {
     "name": "stderr",
     "output_type": "stream",
     "text": [
      " 19%|█▉        | 119/628 [18:10<35:36,  4.20s/it]  "
     ]
    },
    {
     "name": "stdout",
     "output_type": "stream",
     "text": [
      "KL: 0.9, Word: 60.20, Topo: 94.72, Assm: 79.33, Steo: 36.13, Loss: 29.892704, Delta: -0.066954\n"
     ]
    },
    {
     "name": "stderr",
     "output_type": "stream",
     "text": [
      " 22%|██▏       | 139/628 [21:12<45:04,  5.53s/it]  "
     ]
    },
    {
     "name": "stdout",
     "output_type": "stream",
     "text": [
      "KL: 1.0, Word: 60.30, Topo: 94.85, Assm: 79.15, Steo: 28.99, Loss: 28.847120, Delta: 0.506290\n"
     ]
    },
    {
     "name": "stderr",
     "output_type": "stream",
     "text": [
      " 25%|██▌       | 159/628 [24:20<1:35:35, 12.23s/it]"
     ]
    },
    {
     "name": "stdout",
     "output_type": "stream",
     "text": [
      "KL: 1.0, Word: 60.23, Topo: 94.94, Assm: 79.01, Steo: 30.99, Loss: 30.105276, Delta: -0.232508\n"
     ]
    },
    {
     "name": "stderr",
     "output_type": "stream",
     "text": [
      " 29%|██▊       | 179/628 [26:29<31:46,  4.25s/it]  "
     ]
    },
    {
     "name": "stdout",
     "output_type": "stream",
     "text": [
      "KL: 1.0, Word: 60.04, Topo: 94.98, Assm: 79.17, Steo: 34.81, Loss: 29.535795, Delta: -0.508995\n"
     ]
    },
    {
     "name": "stderr",
     "output_type": "stream",
     "text": [
      " 32%|███▏      | 199/628 [29:49<57:31,  8.05s/it]  "
     ]
    },
    {
     "name": "stdout",
     "output_type": "stream",
     "text": [
      "KL: 0.9, Word: 60.21, Topo: 94.93, Assm: 78.87, Steo: 31.23, Loss: 29.328407, Delta: 0.251625\n"
     ]
    },
    {
     "name": "stderr",
     "output_type": "stream",
     "text": [
      " 35%|███▍      | 219/628 [33:33<1:48:51, 15.97s/it]"
     ]
    },
    {
     "name": "stdout",
     "output_type": "stream",
     "text": [
      "KL: 1.0, Word: 60.17, Topo: 94.93, Assm: 78.99, Steo: 30.29, Loss: 30.045839, Delta: -0.605671\n"
     ]
    },
    {
     "name": "stderr",
     "output_type": "stream",
     "text": [
      " 38%|███▊      | 239/628 [35:06<30:12,  4.66s/it]  "
     ]
    },
    {
     "name": "stdout",
     "output_type": "stream",
     "text": [
      "KL: 1.0, Word: 60.33, Topo: 94.94, Assm: 79.23, Steo: 32.51, Loss: 28.824295, Delta: 0.524622\n"
     ]
    },
    {
     "name": "stderr",
     "output_type": "stream",
     "text": [
      " 41%|████      | 259/628 [38:16<35:03,  5.70s/it]  "
     ]
    },
    {
     "name": "stdout",
     "output_type": "stream",
     "text": [
      "KL: 1.1, Word: 60.28, Topo: 94.96, Assm: 79.04, Steo: 33.59, Loss: 29.207348, Delta: 0.540924\n"
     ]
    },
    {
     "name": "stderr",
     "output_type": "stream",
     "text": [
      " 44%|████▍     | 279/628 [41:46<1:31:29, 15.73s/it]"
     ]
    },
    {
     "name": "stdout",
     "output_type": "stream",
     "text": [
      "KL: 1.0, Word: 60.41, Topo: 94.97, Assm: 79.16, Steo: 33.99, Loss: 29.524364, Delta: 0.362511\n"
     ]
    },
    {
     "name": "stderr",
     "output_type": "stream",
     "text": [
      " 48%|████▊     | 299/628 [43:38<24:10,  4.41s/it]  "
     ]
    },
    {
     "name": "stdout",
     "output_type": "stream",
     "text": [
      "KL: 1.1, Word: 60.38, Topo: 94.88, Assm: 79.13, Steo: 33.85, Loss: 29.893641, Delta: -0.720242\n"
     ]
    },
    {
     "name": "stderr",
     "output_type": "stream",
     "text": [
      " 51%|█████     | 319/628 [47:11<33:44,  6.55s/it]  "
     ]
    },
    {
     "name": "stdout",
     "output_type": "stream",
     "text": [
      "KL: 1.0, Word: 60.50, Topo: 94.94, Assm: 79.43, Steo: 30.53, Loss: 29.449535, Delta: 0.158014\n"
     ]
    },
    {
     "name": "stderr",
     "output_type": "stream",
     "text": [
      " 54%|█████▍    | 339/628 [49:49<54:31, 11.32s/it]  "
     ]
    },
    {
     "name": "stdout",
     "output_type": "stream",
     "text": [
      "KL: 1.0, Word: 60.43, Topo: 94.92, Assm: 78.74, Steo: 32.27, Loss: 29.793627, Delta: -0.876883\n"
     ]
    },
    {
     "name": "stderr",
     "output_type": "stream",
     "text": [
      " 57%|█████▋    | 359/628 [52:14<21:03,  4.70s/it]  "
     ]
    },
    {
     "name": "stdout",
     "output_type": "stream",
     "text": [
      "KL: 1.0, Word: 60.29, Topo: 94.96, Assm: 79.31, Steo: 32.04, Loss: 29.033302, Delta: 0.724869\n"
     ]
    },
    {
     "name": "stderr",
     "output_type": "stream",
     "text": [
      " 60%|██████    | 379/628 [55:22<24:17,  5.85s/it]  "
     ]
    },
    {
     "name": "stdout",
     "output_type": "stream",
     "text": [
      "KL: 1.0, Word: 60.19, Topo: 94.93, Assm: 79.19, Steo: 29.94, Loss: 29.485163, Delta: -0.249985\n"
     ]
    },
    {
     "name": "stderr",
     "output_type": "stream",
     "text": [
      " 64%|██████▎   | 399/628 [58:26<30:13,  7.92s/it]  "
     ]
    },
    {
     "name": "stdout",
     "output_type": "stream",
     "text": [
      "KL: 1.1, Word: 60.53, Topo: 94.98, Assm: 79.10, Steo: 34.23, Loss: 29.265802, Delta: -0.006845\n"
     ]
    },
    {
     "name": "stderr",
     "output_type": "stream",
     "text": [
      " 67%|██████▋   | 419/628 [1:00:45<16:05,  4.62s/it]  "
     ]
    },
    {
     "name": "stdout",
     "output_type": "stream",
     "text": [
      "KL: 1.0, Word: 60.53, Topo: 94.93, Assm: 79.39, Steo: 32.84, Loss: 28.971266, Delta: -0.104469\n"
     ]
    },
    {
     "name": "stderr",
     "output_type": "stream",
     "text": [
      " 70%|██████▉   | 439/628 [1:03:44<19:12,  6.10s/it]  "
     ]
    },
    {
     "name": "stdout",
     "output_type": "stream",
     "text": [
      "KL: 1.0, Word: 60.64, Topo: 94.96, Assm: 79.32, Steo: 31.91, Loss: 29.127401, Delta: 0.211578\n"
     ]
    },
    {
     "name": "stderr",
     "output_type": "stream",
     "text": [
      " 73%|███████▎  | 459/628 [1:06:39<37:41, 13.38s/it]  "
     ]
    },
    {
     "name": "stdout",
     "output_type": "stream",
     "text": [
      "KL: 1.0, Word: 60.34, Topo: 95.02, Assm: 78.69, Steo: 35.37, Loss: 29.978994, Delta: -0.126566\n"
     ]
    },
    {
     "name": "stderr",
     "output_type": "stream",
     "text": [
      " 76%|███████▋  | 479/628 [1:09:00<11:24,  4.59s/it]  "
     ]
    },
    {
     "name": "stdout",
     "output_type": "stream",
     "text": [
      "KL: 1.0, Word: 60.07, Topo: 94.97, Assm: 79.08, Steo: 29.21, Loss: 28.637239, Delta: 1.114359\n"
     ]
    },
    {
     "name": "stderr",
     "output_type": "stream",
     "text": [
      " 79%|███████▉  | 499/628 [1:12:03<11:58,  5.57s/it]"
     ]
    },
    {
     "name": "stdout",
     "output_type": "stream",
     "text": [
      "KL: 1.0, Word: 60.46, Topo: 95.01, Assm: 79.57, Steo: 33.47, Loss: 29.360977, Delta: 0.064987\n"
     ]
    },
    {
     "name": "stderr",
     "output_type": "stream",
     "text": [
      " 83%|████████▎ | 519/628 [1:14:39<16:46,  9.24s/it]"
     ]
    },
    {
     "name": "stdout",
     "output_type": "stream",
     "text": [
      "KL: 1.0, Word: 60.33, Topo: 94.95, Assm: 79.01, Steo: 33.32, Loss: 29.384272, Delta: 0.274626\n"
     ]
    },
    {
     "name": "stderr",
     "output_type": "stream",
     "text": [
      " 86%|████████▌ | 539/628 [1:17:26<07:38,  5.16s/it]"
     ]
    },
    {
     "name": "stdout",
     "output_type": "stream",
     "text": [
      "KL: 1.0, Word: 60.36, Topo: 94.98, Assm: 79.25, Steo: 29.30, Loss: 28.986525, Delta: 0.641905\n"
     ]
    },
    {
     "name": "stderr",
     "output_type": "stream",
     "text": [
      " 89%|████████▉ | 559/628 [1:20:29<08:49,  7.68s/it]"
     ]
    },
    {
     "name": "stdout",
     "output_type": "stream",
     "text": [
      "KL: 1.0, Word: 60.54, Topo: 94.98, Assm: 79.32, Steo: 32.48, Loss: 28.914799, Delta: 0.986511\n"
     ]
    },
    {
     "name": "stderr",
     "output_type": "stream",
     "text": [
      " 92%|█████████▏| 579/628 [1:23:41<07:40,  9.40s/it]"
     ]
    },
    {
     "name": "stdout",
     "output_type": "stream",
     "text": [
      "KL: 1.1, Word: 60.37, Topo: 95.01, Assm: 79.37, Steo: 31.19, Loss: 29.334246, Delta: -0.449234\n"
     ]
    },
    {
     "name": "stderr",
     "output_type": "stream",
     "text": [
      " 95%|█████████▌| 599/628 [1:26:43<03:59,  8.27s/it]"
     ]
    },
    {
     "name": "stdout",
     "output_type": "stream",
     "text": [
      "KL: 1.0, Word: 60.62, Topo: 95.07, Assm: 79.54, Steo: 34.35, Loss: 28.823063, Delta: 1.029133\n"
     ]
    },
    {
     "name": "stderr",
     "output_type": "stream",
     "text": [
      " 99%|█████████▊| 619/628 [1:29:04<00:54,  6.07s/it]"
     ]
    },
    {
     "name": "stdout",
     "output_type": "stream",
     "text": [
      "KL: 1.0, Word: 60.71, Topo: 95.03, Assm: 79.20, Steo: 29.77, Loss: 29.314081, Delta: -0.550636\n"
     ]
    },
    {
     "name": "stderr",
     "output_type": "stream",
     "text": [
      "100%|██████████| 628/628 [1:29:19<00:00,  8.53s/it]"
     ]
    },
    {
     "name": "stdout",
     "output_type": "stream",
     "text": [
      "learning rate: 0.000656\n",
      "Epoch 4: \n"
     ]
    },
    {
     "name": "stderr",
     "output_type": "stream",
     "text": [
      "\n",
      "  3%|▎         | 19/628 [03:47<1:08:08,  6.71s/it]"
     ]
    },
    {
     "name": "stdout",
     "output_type": "stream",
     "text": [
      "KL: 1.0, Word: 60.88, Topo: 94.98, Assm: 79.77, Steo: 33.88, Loss: 29.309559, Delta: -0.732872\n"
     ]
    },
    {
     "name": "stderr",
     "output_type": "stream",
     "text": [
      "  6%|▌         | 39/628 [07:07<2:18:14, 14.08s/it]"
     ]
    },
    {
     "name": "stdout",
     "output_type": "stream",
     "text": [
      "KL: 1.0, Word: 60.53, Topo: 95.07, Assm: 80.45, Steo: 32.42, Loss: 29.310076, Delta: -0.486910\n"
     ]
    },
    {
     "name": "stderr",
     "output_type": "stream",
     "text": [
      "  9%|▉         | 59/628 [09:21<41:11,  4.34s/it]  "
     ]
    },
    {
     "name": "stdout",
     "output_type": "stream",
     "text": [
      "KL: 1.0, Word: 60.70, Topo: 95.11, Assm: 79.98, Steo: 33.74, Loss: 29.236412, Delta: -0.020956\n"
     ]
    },
    {
     "name": "stderr",
     "output_type": "stream",
     "text": [
      " 11%|█         | 67/628 [10:39<51:53,  5.55s/it]  "
     ]
    },
    {
     "name": "stdout",
     "output_type": "stream",
     "text": [
      "['O=C(COC(=O)C[C@@H]1C[C@H]2CC[C@@H]1C2)Nc1cccc(Cl)c1', 'COc1cc2[nH]c(O)c(C(=O)NCCC[NH+](C)C)c(=O)c2cc1OC', 'Nc1ccnc(CN(Cc2ccncc2)C2CC2)n1', 'NC(=O)c1ccc(/C=C/C(=O)Nc2cccc([N+](=O)[O-])c2)cc1', 'COc1ccc(-c2ocnc2C(=O)Nc2ccc3c(c2)CCC3)cc1', 'Cc1cc(NC(=O)CN2CCN(Cc3cc(-c4ccc(Cl)cc4)no3)CC2)no1', 'O=C([O-])c1ccc(CN2C(=O)S[C@@H](Nc3ccc(C(=O)[O-])cc3)C2=O)cc1', 'CC[C@H]([NH2+][C@@H](CO)c1ccccc1F)c1cccs1', 'Cc1ccc2ncc(C[NH+]3CCC(Nc4ccccc4)CC3)n2c1', 'C[C@@H]1CC[C@H](C(=O)O[C@H](C(F)(F)F)C(C)(C)c2ccccc2)O1', 'CN(CC(=O)NCC[NH+](C)C)S(=O)(=O)c1cc(Cl)ccc1Cl', 'COc1cc(C(=O)N(C2CCCC2)C2CC2)cc(OC)c1OC(F)F', 'COc1ccc(CNC(=O)CSc2nnc3c(=O)n(-c4ccc(F)cc4)ccn23)cc1', 'C[C@H](C(=O)NC(=O)NC12CC3CC(CC(C3)C1)C2)N1CC[NH+](CC2CC2)CC1', 'O=C(CSc1ccc(F)cc1)N[C@H]1CCS(=O)(=O)C1', 'CCCCC1([C@H]2CC(=O)N(c3ccccc3)C2=O)C(=O)N(c2ccccc2)N(c2ccccc2)C1=O', 'CC(C)CNC(=O)C(=O)Nc1ccccc1N(C)Cc1ccccc1', 'CCOc1ccccc1NC(=O)C1CCN(S(=O)(=O)c2cc(-c3noc(C)n3)cs2)CC1', 'O=C(Cn1cnc(-c2ccccc2)cc1=O)Nc1nc2ccccc2s1', 'Cc1cccc(CNS(=O)(=O)c2ccc(N3C(=O)[C@H](C)CS3(=O)=O)cc2C)c1', 'Cc1c(NC(=O)CSc2nc3ccccc3c(=O)n2-c2ccccc2F)cccc1[N+](=O)[O-]', 'O=C(CCc1ccccc1)Nc1cccc(I)c1', 'Cc1noc([C@@H](C)N2CCN(C(=O)Cc3ccccc3)CC2)n1', 'Cc1ccc2c(c1)N[C@@]1(CCC(=O)N([C@H](C)C(=O)N3CCC(C)CC3)CC1)NC2=O', 'Cc1c(NC(=O)CC2(O)CCCC2)cccc1[N+](=O)[O-]', 'CC[C@@H](C)N(C)c1ncccc1/C(N)=N/O', 'Cc1ccc2ncc(C[NH+]3CCC(CN4C[C@H](C)O[C@@H](C)C4)CC3)n2c1', 'COC(=O)CSc1nc2scc(-c3ccco3)c2c(=O)n1-c1ccccc1', 'CCOC(=O)[C@H](CC)Cc1nccs1', 'COc1cccc(-c2nnc(NC(=O)CCS(=O)(=O)c3ccc(Cl)cc3)o2)c1', 'Cc1c(N)cccc1S(=O)(=O)N[C@H]1CCC[C@@H](C)C1', 'CC1(C)NC(=O)N(CC(=O)NCCc2cn3ccccc3[nH+]2)C1=O', 'COc1ccc(Cl)cc1S(=O)(=O)NCc1nc2cccnc2n1C', 'C[C@@H](CNC(=O)Nc1ccc(CN2CCCC2=O)cc1)C[NH+]1CCCC1', 'CCc1onc(C)c1NC(=O)NCc1csc(C(C)(C)C)n1', 'Cc1nc2scc(-c3cccs3)c2c(=O)n1CC(=O)[O-]', 'C[C@H](O)[C@H]1CCC[NH+](CC(=O)Nc2ccccc2Oc2ccccc2)C1', 'COC(=O)Nc1ccc(CNC(=O)c2cc(-c3csc(C)n3)c[nH]2)cc1', 'COC(=O)c1cc2ccccn2c2c(C(=O)OC)c(C(=O)OC)cc1-2', 'Cc1ccc(C(=O)N[C@@H](C)CCc2ccco2)c(NN)c1', 'C[C@H]1CN(C(=O)c2cccnc2OCC(F)F)C[C@H](c2ccccc2)O1', 'CC1(C)CC(=O)C2=C(C1)OC(/N=C/N1CCCC1)=C(C#N)[C@H]2c1ccccc1', 'CCS(=O)(=O)C[C@@H](C)N(C)C(=O)c1cnn(-c2ccncc2)c1C', 'CCC[NH+](Cc1cccc(C#N)c1)Cc1nnc(-c2ccccc2Cl)o1', 'CCCn1cc[nH+]c1C[C@@]1(O)CCSC1', 'Cc1cc(OCCCC[NH+]2CCN(C)CC2)ccc1[N+](=O)[O-]', 'COc1cc([C@H]2COc3cc4occc4cc3C2=O)c(OC)cc1C', 'COc1ccc(S(=O)(=O)N2CCC(C(=O)NCCC3=CCCCC3)CC2)cc1Cl', 'CCN1CCc2c(sc(NC(=O)c3ccno3)c2-c2nc3ccccc3s2)C1', 'Cc1ccc(/C=C/C(=O)Nc2sc(C)c(C)c2C#N)o1', 'COc1cc(F)c(S(=O)(=O)[N-]c2cc(C(N)=O)ccc2-n2cc(C)cn2)cc1OC', 'O[C@H](c1cnccn1)[C@@H]1CCOC2(CCOCC2)C1', 'CS(=O)(=O)N1CCN(C(=O)Cc2c(F)cccc2Cl)CC1', 'CC[C@@H](O)CN1CCN(c2ncnc3scc(-c4ccc(C)c(C)c4)c23)CC1', 'O=C(COc1ccc(Cl)c2ccccc12)Nc1nc2c(s1)CCC2', 'NC(=O)[C@@H](NCc1ccc(OC2CCCC2)nc1)c1ccccc1', 'C[C@H](CNC(=O)N1CC[C@H](c2ccccc2)C1)c1ccsc1', 'O=C(C[C@@H]1C[NH2+]CCO1)NCCCCn1cc[nH+]c1', 'C[C@]1(c2cc(F)ccc2F)NC(=O)N(CC(=O)N(Cc2ccccc2)[C@H]2CCS(=O)(=O)C2)C1=O', 'O=C(N[C@H]1C[C@H]2C[C@@H]1[C@H]1CCC[C@@H]12)c1ccc(=O)n(-c2ccccc2)n1', 'O=C(COc1coc(CN2CCSCC2)cc1=O)N[C@@H]1CCS(=O)(=O)C1', 'O=C(N/N=C\\\\C=C/c1ccccc1)C1CCCCC1', 'CC(C)(C)c1ccc(OCCCC(=O)n2ncc(C#N)c2N)cc1', 'O=C(/N=C1\\\\S[C@H]2CS(=O)(=O)C[C@@H]2N1Cc1ccccc1Cl)C1CC1', 'COCCCN1C(=O)c2ccc(-c3ccco3)n2C[C@@]1(C)C(=O)N[C@@H]1CCCC[C@H]1C', 'Nc1cc(Br)ccc1C(=O)NC1(C(=O)[O-])CC1', 'C[C@@H]1[NH2+]CCC[C@H]1C(=O)Nc1ccc(F)c(C(F)(F)F)c1', 'O=C([O-])CNC(=O)/C(=C/c1ccccc1)NC(=O)c1ccc(Br)cc1', 'O=C([C@H]1Cc2ccccc2S1)N1CCN(S(=O)(=O)c2ccc3ccccc3c2)CC1', 'CC[C@@H](C)N1C(=O)S/C(=C/c2cc(Br)cs2)C1=O', 'O=C1NC2(CCN(C(=O)Nc3cccc(C(F)(F)F)c3)CC2)Nc2ccc(Br)cc21', 'CSCc1ccc(C(=O)N(C)C/C=C/c2ccccc2)o1', 'Cc1ccc(Cn2nnc3c(=O)n(Cc4ccc([N+](=O)[O-])cc4)cnc32)cc1', 'O=C(COc1ccccc1F)Nc1ccc(N2CCCC2)cc1', 'C[NH+](C)CCC[NH2+]Cc1cc2cccc3c2n(c1=O)CCC3', 'CC[C@@](C)([NH3+])C(=O)N[C@H](C)CC(C)C', 'CCOC(=O)[C@@H]1N=C(C)C(CCC(=O)NC2CCCCC2)=C1C', 'CCc1ccc2c(c1)OCCOCCOc1ccc(C(C)=O)cc1OCCOCCO2', 'Cc1cccc(O[C@H](C)C(=O)N(C)[C@H](C)c2ccc([S@](C)=O)cc2)c1', 'CC(C)(C)c1cc(NC(=O)CN2CCN(C(=O)CO)CC2)on1', 'COc1ccccc1NC(=S)N(Cc1ccc(C)o1)C1CCCCC1', 'Cc1ccc(C(=O)N2CCC[C@H]2c2nc(C3CC3)no2)cc1C', 'O=[N+]([O-])c1ccc(CN[C@@H](Cc2ccccn2)C2CC2)cc1', 'Oc1ccccc1/C=N/N1C(=S)[NH+]=N[C@@H]1c1ccc(Cl)cc1Cl', 'COCC[C@H](C)NC(=O)[C@H]1CCCC[C@@H]1C(=O)N1CCCC1', 'COc1ccc([C@@H]2CN(c3nncs3)[C@@H]3C4CC[NH+](CC4)[C@H]23)cc1', 'CCNc1nc(-c2ccc(C)c(C)c2)cs1', 'CON(C)S(=O)(=O)c1cccc(C(=O)Nc2ccc(C)cc2F)c1', 'C[C@@H]1CCCCN1C(=O)NCc1ccc(F)c(Cl)c1', 'COc1ccccc1[C@@H](NC(=O)N(C)C[C@H](C)O)c1nccn1C', 'CC(=O)N1C=Cc2ccccc2[C@@H]1CC(=O)N(C)C[C@H](O)C1CC1', 'CCCCn1c(C)[n+](CC(=O)c2ccc(Cl)cc2)c2ccccc21', 'CCOc1ccc(NC(=O)NCCOc2cc(C)cc(C)c2)cc1', 'CCCc1cc2c(cc1NC(=O)c1cnc(N3CCC[C@H](C)C3)nc1)OCO2', 'C[C@H]1C[C@H](c2ccc(F)cc2)C[NH+]1Cc1cnc(N(C)C)s1', 'N#Cc1ccc(Oc2cccc(NC(=O)N[C@H]3CCCC[C@@H]3CO)c2)cc1', 'N#Cc1ccc(-c2noc(CCn3nc4ccccn4c3=O)n2)nc1', 'COCC[C@H](C)C(=O)Nc1ccc(-c2ncc(C(C)C)o2)cc1', 'C[C@H](c1ccccc1Cl)N(C)C(=O)Nn1cnc2ccccc21', 'CO[C@H]1CCCC[C@H]1Nc1snc(Cl)c1C#N', 'CN(Cc1cccnc1)C(=O)c1ccc2c(c1)CCC2', 'CC(C)[C@H](NCc1nc(C(F)(F)F)cs1)c1cccnc1', 'C[C@H]1Cc2ccccc2N1C(=O)[C@H](C)[NH+]1CCCN(CC(F)F)CC1', 'Cc1ccccc1[C@@H]1CCCN1CN1CCSC1=O', 'COc1ccc2c(c1OC)CN(S(=O)(=O)c1ccc(C(=O)Nc3ccc(Cl)cc3)o1)CC2', 'COC[C@H]1CCCN(C(=O)N[C@@H]2CCC[C@@H]2c2ccccc2C(F)(F)F)C1', 'N#Cc1cccc(COc2cccc(NC(=O)c3ccc(Cl)cc3[N+](=O)[O-])c2)c1', 'C[C@H](OCc1ccccc1)C(=O)N1CCOC(C)(C)C1', 'COc1cccc(NC(=O)c2ccc3c(c2)CCN3S(=O)(=O)c2ccc(Cl)cc2)c1', 'C[C@H]1CN(c2nccc(C[NH+]3CCN(Cc4ccccc4F)CC3)n2)C[C@H](C)O1', 'C[C@@H](Cc1c[nH]c2ccccc12)NC(N)=O', 'CCNC(=O)NC(=O)[C@H](Sc1nnnn1C1CCCC1)c1ccccc1', 'C=CCN1CC(=O)Nc2cc(I)ccc21', 'CC[C@](C)([C@@H]([NH2+]C)C1CCOCC1)[NH+]1CCCC1', 'O=C(CCn1ccc(=O)[nH]c1=O)Nc1ccc2c(c1)C(=O)N1CCCC[C@H]1CCO2', 'CC(C)Oc1cccc([C@@H](O)CNc2ccncc2[N+](=O)[O-])c1', 'COc1ccccc1N1CCN(/N=C/C=C/c2ccco2)CC1', 'COc1ccc(C)cc1[C@@H](C)[NH2+][C@H](C)C(=O)Nc1cc([N+](=O)[O-])ccc1C', 'CCOc1ccc(C#N)cc1NC(=O)[C@H]1[C@@H]2C=C[C@@H](C2)[C@@H]1C(=O)[O-]', 'O=C(N/N=C\\\\c1ccc(-c2cc([N+](=O)[O-])ccc2Cl)o1)[C@H]1COc2ccccc2O1', 'O=C(c1cc(-c2cccs2)n[nH]1)N1CC[C@H]2CCCC[C@H]21', 'COc1ccc(NC(=O)[C@H](C)[S@](=O)Cc2ccccc2F)cc1OC', 'COc1ccc(OC)c([C@@H]2CN(C(=O)c3ccccc3Cl)C[C@@H]2C(=O)N2CCCCC2)c1', 'Cc1cccc(N2C(=O)/C(=C/c3cccn3-c3cccc(C(=O)[O-])c3)C([O-])=NC2=S)c1C', 'Cc1ccccc1-c1nnc(S[C@@H](C)C(=O)Nc2ccc(C(N)=O)cc2)o1', 'COc1ccc(/N=N/c2nccs2)c(O)c1', 'C1CC(C2CC[NH2+]CC2)CC[NH2+]1', 'O=C(Cn1cc(S(=O)(=O)N2CCCC2)ccc1=O)N[C@@H](c1ccccc1)c1cccs1', 'CC1(C)CCN(C(=O)[C@@H]2CCC[C@@H]2NC(=O)OC(C)(C)C)C1', 'O=[N+]([O-])c1cccc(C[NH2+][C@H]2CCOC3(CCCC3)C2)c1', 'CN(C[C@H](O)COc1ccccc1C(F)(F)F)C(=O)c1cnccn1', 'C[NH+](C)CCCNc1ncc(C(F)(F)F)cc1Cl', 'CCOC[C@@H]1CCN(C(=O)Nc2ccc(F)c(C)c2)C1', 'CC(C)n1nc(O)c2c(-c3cccc(OC(F)F)c3)c3c(nc21)[nH]c(=O)n3C', 'CC(C)[C@@H]1CC[C@@H](C)C[C@H]1[NH3+]', 'Cc1nc(CSc2ccccc2C(=O)Nc2ccc(Oc3cccnc3)c(C)c2)cs1', 'Cc1cccc([C@H](N[C@@H](C)CC(F)(F)F)c2ccccn2)c1', 'CCn1cc(C[NH+]2C[C@H](c3ccc4c(c3)OCO4)[C@@H]3[C@H]2C2CCN3CC2)cn1', 'O=S(=O)(c1c[nH]c2nccc(Cl)c12)N1CCS[C@H]2COCC[C@@H]21', 'O[C@H](c1ccccc1F)c1cccc(C(F)(F)F)c1F', 'Cc1ccc(CCNC(=O)[C@@H](C)S(=O)(=O)C(C)C)c(C)c1', 'Cc1ccc(-c2nn(CCC(=O)[O-])c(=O)c3noc(C)c23)cc1C', 'COc1ccccc1S(=O)(=O)N1CCC[C@@H](c2cc(C[NH+](C)C)n(C)n2)C1', 'Cc1ccc(-c2cn[nH]c2[C@@H]2CCCN(C(=O)c3cc(N)ccn3)C2)cc1', 'Cc1ccc(/C=c2\\\\s/c(=C(\\\\C#N)C(=O)C(C)(C)C)n(C3CC3)c2=O)o1', 'CCC(=O)N1CCN(C(=O)NCc2ccnc(OC(C)(C)C)c2)CC1', 'CN1C(=O)N=C(N)C12CCSCC2', 'COCCn1cc(NC(=O)N[C@H]2C=C[C@H](C(=O)[O-])C2)cn1', 'Cc1cc(C(=O)CN2C(=O)N[C@@](C)(c3ccc4c(c3)OCCO4)C2=O)c(C)n1CCc1cccs1', 'O=C(c1ccccc1O)N1CCN(S(=O)(=O)c2cccc(F)c2)CC1', 'Brc1cccc(C2=Nn3c(nnc3-c3cccnc3)SC2)c1', 'CCC(C)(C)O[C@@H]1CCC[C@H](O)C1', 'O=C(CSc1nc2ccccc2c(=O)n1-c1ccc(F)cc1F)c1ccccc1', 'C[S@](=O)CCNC(=O)N[C@H]1CCO[C@@H]1c1ccc(Cl)c(F)c1', 'CC[C@H](c1ccccc1)[S@](=O)CC(=O)Nc1ccc(C)cc1', 'CC(=O)Nc1cccc(NC(=O)N2CCN(Cc3cccs3)CC2)c1C', 'CC[C@H]1CN(C(C)=O)CC[C@@H]1[NH2+][C@@H](C)c1ccc(C(F)(F)F)cc1', 'Clc1ccc(OC2CC[NH2+]CC2)c2ncccc12', 'CCCC[C@@H]1C(=O)N(C)CCN1C(=O)[C@@H](C)n1cccn1', 'Cc1nc2cc(Cl)ccc2cc1N', 'COc1ncnc(NC[C@@H]2CCCC[C@H]2CO)c1[N+](=O)[O-]', 'CO[C@H](C)C(=O)Nc1cccc([N-]S(=O)(=O)c2cccc(F)c2)c1', 'CCOc1ccc(N2C[C@H](C(=O)Nc3cc(Cl)ccc3C)CC2=O)cc1', 'CCc1ccc(S(=O)(=O)NC[C@@H](OC)c2ccc(F)cc2)s1', 'C[C@@H]1CCc2nc3ccccc3c(C(=O)OCC(=O)N(C)[C@@H]3CCS(=O)(=O)C3)c2C1', 'Cc1cc(C(=O)N[C@@H]2CCN(c3cccc(OC(F)(F)F)c3)C2=O)on1', 'C[C@@H](C#N)N1CCN(C(=O)Cc2ccc(F)cc2F)CC1', 'C[C@@H](O)C[C@@H]1CCC[NH+]1Cc1ccc(Cl)c(C(F)(F)F)c1', 'CC(C)[C@H](CNC(=O)C(=O)Nc1ccc(Cl)cc1)N1CCOCC1', 'CC(C)(C)CC(=O)Nc1ccc(F)cc1F', 'COc1ccc(C)cc1[C@@H](C)NC(=O)[C@@]1(C)Cc2ccccc2C(=O)O1', 'CC[NH2+][C@@H](Cc1ncccc1C)c1ccc(Br)c(F)c1', 'CC(C)(C)C1=Cc2cc3cc(C(C)(C)C)[nH]c(=O)c3cc2[S@@](=O)(O)=N1', 'COC(=O)C1(NC(=O)CCC(F)(F)F)CCSCC1', 'CCCn1cc(N)c(=O)n(C[C@@H]2CN(C)CCO2)c1=O', 'O=C(Nc1nc(-c2cc3ccccc3o2)cs1)c1ccc2ncsc2c1', 'O[C@H](c1ccc(F)cc1)[C@@H]1CCO[C@]2(CCOC2)C1', 'Cc1ccc(C(=O)NCCc2c[nH]c3cccc(C4(O)CCCC4)c23)cn1', 'COCCCN(C(=O)c1ccc(Cl)o1)[C@H]1CCS(=O)(=O)C1', 'COC(=O)CCNC(=O)C(=O)Nc1ccc(C)cc1F', 'Cc1ccc(C(=O)N2CCN(CC[NH+]3CCCC3)CC2)cc1', 'Cc1cccc(OCCN(C)Cc2nc3cc(Cl)ccc3c(=O)[nH]2)c1', 'CC1=NO[C@H]2CC/C=C/CC[C@H]12', 'O=C(CCc1cn[nH]c1)N[C@H]1CCC[NH+](CCc2ccccc2)C1', 'Cn1cc(NC(=O)C(C)(C)Oc2ccc([C@H]3CC3(Cl)Cl)cc2)cn1', 'COc1ccc2cc(Br)ccc2c1CC(=O)Nc1nc(C)cs1', 'CC(C)[C@H](NC(=O)c1c(F)cccc1F)C(=O)Nc1ccc2[nH]ncc2c1', 'CNC(=O)[C@H]1CCCN(C(=O)NCc2cccc(NC(C)C)c2)C1', 'CCOC(=O)N1CCN(C(=O)COc2ccc(CC)cc2)CC1', 'CCOc1ccccc1/C=C/C(=O)c1ccc(S(N)(=O)=O)cc1', 'COc1ccc2nc(N(Cc3cccnc3)C(=O)c3cccc([N+](=O)[O-])c3)sc2c1', 'Cc1ccc(-n2nnnc2CNC(=O)Cc2cccc3ccccc23)cc1C', 'Cc1ccccc1NC(=O)COc1ccc(S(=O)(=O)N2CCc3ccccc32)cc1', 'COc1ccc(C(=O)Nc2cc(C)c(I)cc2C)cc1[N+](=O)[O-]', 'CCOC(=O)[C@H](Br)c1cccc(Cl)c1', 'CC(C)CNC(=O)NC[C@@H](C)[NH+]1CCc2sccc2C1', 'CC[C@@H](CNC(=O)CN1C(=O)c2ccccc2C1=O)c1ccccc1', 'Cc1nc(C)c(OCc2nc(CCc3ccccc3)no2)c(C)n1', 'COc1ccc(F)c(NC(=O)N[C@@H](C)c2cc(OC)c(OC)cc2C)c1', 'C[C@@H]1CC[C@@H](c2nc(=O)c(-c3ccccc3F)c([O-])[nH]2)C1', 'CC(=O)Nc1ccc(C)cc1NCC(=O)NCc1cccs1', 'CC(C)[C@@H](NC(=O)c1ccc(Cl)cc1)C(=O)NCCc1nnc2n1CCC2', 'C[NH2+][C@H](C)c1ccc(Sc2ccccc2[N+](=O)[O-])cc1', 'Cc1ccc([C@H]2c3c(oc4ccc(Cl)cc4c3=O)C(=O)N2C)cc1', 'CCOC(=O)NC(=O)c1c(NC(=O)[C@@H]2CCCN2S(=O)(=O)c2cccs2)sc(C)c1C', 'Cc1csc(Cn2c(C(F)(F)F)nc3ccccc32)n1', 'CN(C)C(=O)[C@@H]1CN(Cc2cccc(Oc3ccccc3)c2)CCN1', 'COc1ccc(NC(=O)C(=O)N2CCC[C@H]2c2ccc(OC)cc2)cc1', 'Cc1nn(-c2ccccc2)cc1CCCNC(=O)c1csnn1', 'C=CCn1c(=O)oc2cc(NC(=O)Nc3ccccc3OCC)ccc21', 'CNC(=O)COC(=O)c1ccc(Br)cc1F', 'CCOC(=O)[C@@]1(NC)CC[C@H]([NH+](CC)CC)C1', 'COC(=O)c1ccccc1NC(=O)Cn1cccc1-c1nc(-c2ccc(Cl)cc2)no1', 'COc1ccc(S(=O)(=O)N2CCN(c3[nH+]cccc3C(F)(F)F)CC2)cc1', 'Cc1ccc2nc(SCC(=O)OC(C)C)c(C#N)cc2c1', 'O=S(=O)(NCc1cccnc1-n1cccn1)N1CCCCC1', 'O=[N+]([O-])c1cnc(Sc2nc3ccccc3s2)s1', 'CC[NH+]1CCN([C@H](C)C(=O)Nc2cccc([N+](=O)[O-])c2)CC1', 'Cc1ccc(C)n1-c1ccc(Cl)c(C(=O)N/N=C/c2cc(Cl)cc(O)c2O)c1', 'Cc1cccc(C)c1NC(=O)NCc1ccc(N2C(=O)c3ccccc3C2=O)cc1', 'CCN(CC)S(=O)(=O)N[C@@H]1CCC[C@@H](C)C1', 'O=C([O-])c1ccc(S[C@H]2CCO[C@@]3(CCSC3)C2)cc1', 'Cc1cc(Cl)c(N)cc1S(=O)(=O)N[C@@H]1CCCC[C@H]1O', 'C[C@@]1(C(=O)NCc2ccc(F)cc2)CCCN(C(=O)NC2CCCCC2)C1', 'COc1ccc(/C=C(/NC(=O)c2ccc(OC)c(OC)c2)C(=O)N2CCOCC2)cc1', 'CCOc1ccc(C(=O)Nc2ccc(OC)cc2N)cc1', 'N#Cc1cccc(CS(=O)(=O)Oc2ccc(Cl)cc2)c1', 'COc1c(N)cc(C)cc1C(N)=O', 'COc1cc(C)c(C)cc1S(=O)(=O)NCC(C)(C)[C@H](O)c1ccccc1', 'COCCc1noc(-c2ccc(-c3ccc(N)nc3)nc2)n1', 'CC[C@H](COC)NC(=O)[C@@H]1C[C@@H]1c1cccc(Cl)c1', 'CCc1ccc2nc(NC(=O)NC[C@@H]3CSCCS3)sc2c1', 'N#CC1(C(=O)N2CCC(n3c(=O)[nH]c4ccccc43)CC2)CCCC1', 'CC(C)Oc1ccc(F)cc1NC(=O)[C@H](C)Oc1cccc(C=O)c1', 'CCC[C@H](C)[NH2+]Cc1cccc(NC(=O)N(C)C)c1', 'CCc1nn(C)cc1C(=O)N[C@H](C)c1ccc(C)o1', 'CC[C@H](C)N(C)C(=O)COc1ccc(C(C)=O)cc1OC', 'COc1ccc(Cn2c(=O)[nH]c3cc(-c4nc(-c5cccc(Cl)c5)no4)ccc3c2=O)cc1', 'CC[C@@H]([NH2+]C)[C@@H](C)c1ncc(Br)cc1C', 'COc1cc(Cl)c(C)cc1NC(=O)CS(=O)(=O)Cc1cc(C)ccc1C', 'O=C(CCc1cccc(Cl)c1)NC[C@H](O)c1ccc(F)cc1', 'CC(=O)N1CCCc2cc([C@@H](O)CN3CCN(c4ccc(F)cc4)CC3)ccc21', 'O=C(CCOC[C@@H]1CCCO1)N1CCC1', 'CC(C)c1ccc([C@@H]([NH3+])[C@H]2CCc3cccnc32)cc1', 'COC1(C[NH2+][C@H](C)c2cccc(OC(F)F)c2)CCOCC1', 'COC(=O)[C@@H]1C[C@@H](O)CN1Cc1cnc2c(C)cccn12', 'CC(C)COc1ncccc1C(=O)N(C)Cc1nc2c(s1)CCCC2', 'COc1ccc(CC(=O)Nc2nc(-c3ccc(Cl)cc3)cs2)cc1C', 'Cc1ccc(C(=O)Nc2ccc(S(C)(=O)=O)cc2)cc1S(=O)(=O)N1CCCCC1', 'COc1ccc(-n2ccnc2C[NH+]2CCC[C@@H](C(=O)c3ccc(SC)cc3)C2)cc1', 'COc1cc(/C=C/C(=O)Nc2ccc(C)cc2)cc(Cl)c1OC', 'C[C@@H](C(=O)N1CCN(C(=O)c2ccc(Cl)cc2)CC1)n1cccn1', 'CCc1nc(CNC(=O)[C@@H](C)CCc2ccccc2F)cs1', 'CN(CCOCC1CC1)C(=O)c1cc2c(s1)-c1ccccc1OC2', 'CSc1ccc(-c2nc(CN3CCO[C@H](C[NH3+])C3)c(C)o2)cc1', 'N#Cc1cccnc1N1CCC(CNC(=O)c2ccc(Cl)cc2Cl)CC1', 'N#C[C@H](COC(=O)[C@@H]1Cc2ccccc2C(=O)O1)Cc1ccccc1', 'C[C@H](C1CC1)N(C)C(=O)c1cccc(C[S@@](C)=O)c1', 'COC[C@@H]1CN(C(=O)NCCN(C)c2ccccc2)CCO1', 'CSCCOC(=O)C1CCN(C(=O)c2ccc(F)cc2F)CC1', 'O=C(NC[C@H](c1ccco1)[NH+]1CCCC1)c1ccc(=O)n(Cc2ccccc2Cl)c1', 'Cc1ccc(Sc2ccc3nn(CC(=O)Nc4ccccc4C)c(=O)n3n2)cc1', 'C[C@@H](Cc1cccs1)N(C)C(=O)Nc1cccc(SC(F)F)c1', 'CC(=O)c1nn(C)cc1Cl', 'CC1(C)CC(Nc2nccnc2C#N)CC(C)(C)[NH2+]1', 'COc1ccc(N2CCN(C(=O)COC(=O)Cc3ccc4c(c3)CCCC4)CC2)cc1', 'CC[C@@H](C)N(CCOC)C(=O)c1nnn[n-]1', 'CCOC(=O)C[C@]1([NH3+])CCO[C@H](C(C)C)C1', 'COc1ccc(C[C@]2(C(=O)[O-])CCC[C@@H](C)C2)cc1OC', 'Cc1noc(C)c1[C@@H](C)C(=O)Nc1ccn(-c2ncccc2Cl)n1', 'O=C(c1cc(=O)[nH]c([O-])n1)N1CCN([C@@H]2CCc3ccccc3C2)CC1', 'CC(C)Cc1nc2oc3c(=O)n(CC(=O)NC[C@H]4CCCO4)cnc3c2c2c1COC(C)(C)C2', 'CCc1ccc([C@H]2C[C@@H]2[C@@H](C)[NH3+])cc1', 'C[NH+](CCS(C)(=O)=O)CC(=O)N1CCC[C@@H]2CCCC[C@@H]21', 'CC(=O)NCC#CCOc1cccc2cccnc12', 'Cc1ccccc1CN(Cc1cccnc1)C(=O)c1ccc2c(c1)NC(=O)CO2', 'CC[C@H](NC(=O)Nc1cc(COC)ncn1)c1cccc([N+](=O)[O-])c1', 'Cc1ccc(CC(=O)N2CC[C@@H](C)C[C@@H]2C)cc1O', 'CC(C)CO[C@@H](C)c1noc(C[NH+](C)[C@@H]2CCS(=O)(=O)C2)n1', 'CCCCNc1ccc(C(=O)Nc2ccccc2)nn1', 'CC(C)n1cnnc1S(=O)(=O)[C@H](C)C(=O)N[C@@H](C)c1ccccc1', 'Cc1c(F)cccc1NC(=O)[C@@H]1CSCN1C(=O)C(C)(C)C', 'COc1ccc(OC)c(NC(=O)C[C@H](C)[NH2+][C@@H]2C=CCCC2)c1', 'Cc1cn2c(CN(C)C(=O)C3(c4cccc(F)c4)CC3)c(C)nc2s1', 'O=C(NC[C@@H](CCO)c1ccccc1)[C@@H]1C[C@@H]1c1cc(F)ccc1F', 'C[C@H]1CN([C@@H](C)C(=O)Nc2ccc(I)cc2)C[C@@H](C)O1', 'O=C(Nc1nnc(-c2ccccn2)s1)NC1(c2ccccc2)CCC1', 'CCCC(CCC)(c1ccccc1)N1CCOCC1', 'CC(C)C[NH+](CCN(C)C)[C@@H]1CCCC(C)(C)[C@@H]1O', 'CC(C)c1noc(CCCNC(=O)N(C)C2CCCCC2)n1', 'COc1cccc2c1OCC/C2=N\\\\NC(=O)COc1ccccc1C', 'C[C@@H](C#N)C1(O)CCC(=O)CC1', 'O=C([C@@H]1CCCN1S(=O)(=O)c1cccs1)N1CCc2cc(F)ccc2C1', 'CCc1ccc(-c2cc(N)n([C@H]3CCS(=O)(=O)C3)[nH+]2)o1', 'CC1=C(c2ccc(Cl)cc2)S(=O)(=O)N=C1NCC(=O)NCCc1cccc(C)c1', 'Cc1nc2ccc(N(C)C(=O)c3cccc(C(=O)N(C)C)c3)cc2s1', 'C#CCCOC(=O)/C=C/c1cnn(-c2ccccc2)c1', 'COc1ccc(/C=N/NC(=O)c2cc(-c3cccc4ccccc34)n[nH]2)cc1', 'COc1ccc(Cn2nnnc2[C@@H](c2cc3cc(C)cc(C)c3[nH]c2=O)[NH+]2CCCCCC2)cc1', 'CC(C)NC(=O)CN(C)C(=O)/C=C/c1cnc(C(C)(C)C)s1', 'Cc1c([C@@H](N)c2nc3c(s2)CCC3)cnn1C', 'CCOC(=O)C1CCC(Nc2ccc(N3CCOC[C@H]3C)cc2)CC1', 'Clc1cccc(-n2c(SCCc3ccccn3)nnc2N2CCCC2)c1', 'Cc1ccc([C@@H](C)NC(=O)N2CC[NH+](C3CCCC3)CC2)cc1', 'COc1ccc(S(=O)(=O)N(C)CC(=O)N2CCOCC2)cc1', 'CC1(C)C(C(=O)NC[C@@H](O)c2cccc(OC(F)F)c2)C1(C)C', 'CCOC(=O)c1c(C)oc2ccc(NS(=O)(=O)c3ccc(CC)cc3)cc12', 'COc1ccccc1CNC(=O)CCn1c(=O)sc2ccccc21', 'Cc1cccc2c(CC(=O)NCc3ccnc(OC(C)(C)C)c3)c[nH]c12', 'CC[C@@H](C(=O)N[C@@H](CO)c1ccco1)[NH+](C)C', 'C[C@H]1CCCCN1C(=O)[C@@H](Cc1ccccc1)[NH+](C)C', 'CCC[C@@H](C)NC(=O)c1ccc(N(CC)CC)nc1', 'NC(=O)Cn1cc[nH+]c1C1CCN(C(=O)[C@H]2CC(=O)N(C3CC3)C2)CC1', 'Cc1sc(-c2noc(C3CC3)n2)cc1S(=O)(=O)/N=c1/cccc[nH]1', 'CCc1ccccc1NC(=O)CSc1nccc(C)n1', 'O=C(Nc1ccccc1N1CCCC1)N[C@H]1CCC[C@H](C(F)(F)F)C1', 'Cc1ccc(-c2ncccc2C(=O)Nc2ccc(Cl)cc2)s1', 'COC(=O)c1sc(N(C)[C@H](C)[C@H]2Cc3ccccc3O2)nc1Cl', 'Cc1nn(-c2ccc(Cl)cc2)c(C)c1CCC[NH3+]', 'O=C(NCCC[NH+]1CCN(c2ccccc2)CC1)[C@H]1CC(=O)N(c2ccccc2)C1', 'COc1cc(OC)cc(C(=O)/N=c2\\\\sc3ccc(OC)cc3n2CCSC)c1', 'Cc1c(NC(=O)[C@H]2CCC(=O)N2)c(=O)n(-c2ccccc2)n1C', 'Cn1ncc2c(=O)n(CC(=O)N3CCO[C@@H]4CCCC[C@@H]43)cnc21', 'C=C(C)C[NH+]1CCC(NC(=O)NCC2(CC)CCC2)CC1', 'Cc1cc(SCCCSCC#N)nc2ccccc12', 'CCOc1ccc(NCc2cc3ccc(OC)cc3n(CC)c2=O)cc1', 'Cc1ccc(-c2nnc(S[C@@H](C)C(=O)[O-])n2C)cc1', 'COc1ccc(C(=O)CN2CCN(C(=O)OC(C)(C)C)CC2)cc1', 'CCn1cc[nH+]c1[C@H](F)C(=O)[O-]', 'Cc1nc(N)sc1SCC(=O)NC(=O)c1cccn1C', 'CCC[C@@H](Cc1ccccc1)NC(=O)/C=C/c1ccncc1', 'O=C(CS(=O)(=O)c1ccc(Br)cc1)c1ccccc1', 'CC(C)c1csc(NC(=O)Cc2ccc(-n3cnnn3)cc2)n1', 'CC[C@@H](C)[NH2+]CC(=O)Nc1cccc(C(=O)NC(C)C)c1', 'CCN(CC)C(=S)S[C@H](C)C(=O)NC1CCCC1', 'COc1ccc([C@@H]2CC(=O)c3cc(C(=O)Nc4ccc(C)c(C)c4)c(=O)[nH]c3C2)cc1', 'Cc1cccc2c(=O)[nH]c(/C(Cl)=C/c3ccc(Br)s3)nc12', 'COc1cc(C)sc1C(=O)NCCNC(C)=O', 'CC(C)c1ccc(NC(=O)CC[NH+]2CCN(C[C@H]3CCCO3)CC2)cc1', 'N#CC1=C(N)N(Nc2ccccc2)C2=C(C(=O)CCC2)[C@H]1c1ccc([N+](=O)[O-])cc1', 'CN(CCn1cnnc1)S(=O)(=O)N1CCC(C(C)(C)C)CC1', 'O=C([O-])[C@@H]1CCC(=O)N(CCCn2cc[nH+]c2)[C@H]1c1ccccc1', 'Cc1nn(C)c(C[C@@H](C[NH3+])c2cccc(Br)c2)c1Cl', 'C[C@H](Cc1ccc(F)cc1)N[C@@H]1CCCc2cccnc21', 'Cc1cccc(Oc2ccc(NC(=O)c3ccc(=O)n(-c4ccc(F)cc4)n3)cc2)c1', 'COc1ccc([C@@H](O)CNC(=O)[C@@H](C)Oc2ccccc2C#N)cc1', 'CSc1ncccc1C(=O)N1C[C@@H](C[NH+]2CCCC2)C[C@@H](CO)C1', 'CC1(C)CC(=O)c2cc(C(=O)NO[C@@H]3CCCCO3)c(=O)[nH]c2C1', 'Cc1cc([N+](=O)[O-])c2c(c1C)[C@H]1C=CC[C@H]1[C@@H](c1ccc(OCC#N)cc1)N2', 'CCOc1cccc2s/c(=N\\\\C(=O)CN3C(=O)CCC3=O)n(CC)c12']\n"
     ]
    },
    {
     "ename": "KeyboardInterrupt",
     "evalue": "",
     "output_type": "error",
     "traceback": [
      "\u001b[0;31m---------------------------------------------------------------------------\u001b[0m",
      "\u001b[0;31mKeyboardInterrupt\u001b[0m                         Traceback (most recent call last)",
      "\u001b[0;32m<ipython-input-7-00fcad11eaac>\u001b[0m in \u001b[0;36m<module>\u001b[0;34m\u001b[0m\n\u001b[1;32m      1\u001b[0m \u001b[0;32mimport\u001b[0m \u001b[0mwarnings\u001b[0m\u001b[0;34m;\u001b[0m \u001b[0mwarnings\u001b[0m\u001b[0;34m.\u001b[0m\u001b[0msimplefilter\u001b[0m\u001b[0;34m(\u001b[0m\u001b[0;34m'ignore'\u001b[0m\u001b[0;34m)\u001b[0m\u001b[0;34m\u001b[0m\u001b[0;34m\u001b[0m\u001b[0m\n\u001b[0;32m----> 2\u001b[0;31m \u001b[0mtrain\u001b[0m\u001b[0;34m(\u001b[0m\u001b[0;34m)\u001b[0m\u001b[0;34m\u001b[0m\u001b[0;34m\u001b[0m\u001b[0m\n\u001b[0m",
      "\u001b[0;32m<ipython-input-6-f748dff0e0dc>\u001b[0m in \u001b[0;36mtrain\u001b[0;34m()\u001b[0m\n\u001b[1;32m     33\u001b[0m             \u001b[0mmodel\u001b[0m\u001b[0;34m.\u001b[0m\u001b[0mzero_grad\u001b[0m\u001b[0;34m(\u001b[0m\u001b[0;34m)\u001b[0m\u001b[0;34m\u001b[0m\u001b[0;34m\u001b[0m\u001b[0m\n\u001b[1;32m     34\u001b[0m             \u001b[0;32mtry\u001b[0m\u001b[0;34m:\u001b[0m\u001b[0;34m\u001b[0m\u001b[0;34m\u001b[0m\u001b[0m\n\u001b[0;32m---> 35\u001b[0;31m                 \u001b[0mloss\u001b[0m\u001b[0;34m,\u001b[0m \u001b[0mkl_div\u001b[0m\u001b[0;34m,\u001b[0m \u001b[0mwacc\u001b[0m\u001b[0;34m,\u001b[0m \u001b[0mtacc\u001b[0m\u001b[0;34m,\u001b[0m \u001b[0msacc\u001b[0m\u001b[0;34m,\u001b[0m \u001b[0mdacc\u001b[0m \u001b[0;34m=\u001b[0m \u001b[0mmodel\u001b[0m\u001b[0;34m(\u001b[0m\u001b[0mbatch\u001b[0m\u001b[0;34m,\u001b[0m \u001b[0margs\u001b[0m\u001b[0;34m.\u001b[0m\u001b[0mbeta\u001b[0m\u001b[0;34m)\u001b[0m\u001b[0;34m\u001b[0m\u001b[0;34m\u001b[0m\u001b[0m\n\u001b[0m\u001b[1;32m     36\u001b[0m             \u001b[0;32mexcept\u001b[0m\u001b[0;34m:\u001b[0m\u001b[0;34m\u001b[0m\u001b[0;34m\u001b[0m\u001b[0m\n\u001b[1;32m     37\u001b[0m                 \u001b[0mprint\u001b[0m\u001b[0;34m(\u001b[0m\u001b[0;34m[\u001b[0m\u001b[0mt\u001b[0m\u001b[0;34m.\u001b[0m\u001b[0msmiles\u001b[0m \u001b[0;32mfor\u001b[0m \u001b[0mt\u001b[0m \u001b[0;32min\u001b[0m \u001b[0mbatch\u001b[0m\u001b[0;34m[\u001b[0m\u001b[0;34m'mol_trees'\u001b[0m\u001b[0;34m]\u001b[0m\u001b[0;34m]\u001b[0m\u001b[0;34m)\u001b[0m\u001b[0;34m\u001b[0m\u001b[0;34m\u001b[0m\u001b[0m\n",
      "\u001b[0;32m~/app/env/lib/python3.7/site-packages/torch/nn/modules/module.py\u001b[0m in \u001b[0;36m__call__\u001b[0;34m(self, *input, **kwargs)\u001b[0m\n\u001b[1;32m    539\u001b[0m             \u001b[0mresult\u001b[0m \u001b[0;34m=\u001b[0m \u001b[0mself\u001b[0m\u001b[0;34m.\u001b[0m\u001b[0m_slow_forward\u001b[0m\u001b[0;34m(\u001b[0m\u001b[0;34m*\u001b[0m\u001b[0minput\u001b[0m\u001b[0;34m,\u001b[0m \u001b[0;34m**\u001b[0m\u001b[0mkwargs\u001b[0m\u001b[0;34m)\u001b[0m\u001b[0;34m\u001b[0m\u001b[0;34m\u001b[0m\u001b[0m\n\u001b[1;32m    540\u001b[0m         \u001b[0;32melse\u001b[0m\u001b[0;34m:\u001b[0m\u001b[0;34m\u001b[0m\u001b[0;34m\u001b[0m\u001b[0m\n\u001b[0;32m--> 541\u001b[0;31m             \u001b[0mresult\u001b[0m \u001b[0;34m=\u001b[0m \u001b[0mself\u001b[0m\u001b[0;34m.\u001b[0m\u001b[0mforward\u001b[0m\u001b[0;34m(\u001b[0m\u001b[0;34m*\u001b[0m\u001b[0minput\u001b[0m\u001b[0;34m,\u001b[0m \u001b[0;34m**\u001b[0m\u001b[0mkwargs\u001b[0m\u001b[0;34m)\u001b[0m\u001b[0;34m\u001b[0m\u001b[0;34m\u001b[0m\u001b[0m\n\u001b[0m\u001b[1;32m    542\u001b[0m         \u001b[0;32mfor\u001b[0m \u001b[0mhook\u001b[0m \u001b[0;32min\u001b[0m \u001b[0mself\u001b[0m\u001b[0;34m.\u001b[0m\u001b[0m_forward_hooks\u001b[0m\u001b[0;34m.\u001b[0m\u001b[0mvalues\u001b[0m\u001b[0;34m(\u001b[0m\u001b[0;34m)\u001b[0m\u001b[0;34m:\u001b[0m\u001b[0;34m\u001b[0m\u001b[0;34m\u001b[0m\u001b[0m\n\u001b[1;32m    543\u001b[0m             \u001b[0mhook_result\u001b[0m \u001b[0;34m=\u001b[0m \u001b[0mhook\u001b[0m\u001b[0;34m(\u001b[0m\u001b[0mself\u001b[0m\u001b[0;34m,\u001b[0m \u001b[0minput\u001b[0m\u001b[0;34m,\u001b[0m \u001b[0mresult\u001b[0m\u001b[0;34m)\u001b[0m\u001b[0;34m\u001b[0m\u001b[0;34m\u001b[0m\u001b[0m\n",
      "\u001b[0;32m~/app/src/models/jtnn_vae.py\u001b[0m in \u001b[0;36mforward\u001b[0;34m(self, mol_batch, beta, e1, e2)\u001b[0m\n\u001b[1;32m    100\u001b[0m \u001b[0;34m\u001b[0m\u001b[0m\n\u001b[1;32m    101\u001b[0m         \u001b[0mencode_start\u001b[0m \u001b[0;34m=\u001b[0m \u001b[0mtime\u001b[0m\u001b[0;34m.\u001b[0m\u001b[0mtime\u001b[0m\u001b[0;34m(\u001b[0m\u001b[0;34m)\u001b[0m\u001b[0;34m\u001b[0m\u001b[0;34m\u001b[0m\u001b[0m\n\u001b[0;32m--> 102\u001b[0;31m         \u001b[0mmol_tree_batch\u001b[0m\u001b[0;34m,\u001b[0m \u001b[0mtree_vec\u001b[0m\u001b[0;34m,\u001b[0m \u001b[0mmol_vec\u001b[0m \u001b[0;34m=\u001b[0m \u001b[0mself\u001b[0m\u001b[0;34m.\u001b[0m\u001b[0mencode\u001b[0m\u001b[0;34m(\u001b[0m\u001b[0mmol_batch\u001b[0m\u001b[0;34m)\u001b[0m\u001b[0;34m\u001b[0m\u001b[0;34m\u001b[0m\u001b[0m\n\u001b[0m\u001b[1;32m    103\u001b[0m \u001b[0;34m\u001b[0m\u001b[0m\n\u001b[1;32m    104\u001b[0m         \u001b[0msample_start\u001b[0m \u001b[0;34m=\u001b[0m \u001b[0mtime\u001b[0m\u001b[0;34m.\u001b[0m\u001b[0mtime\u001b[0m\u001b[0;34m(\u001b[0m\u001b[0;34m)\u001b[0m\u001b[0;34m\u001b[0m\u001b[0;34m\u001b[0m\u001b[0m\n",
      "\u001b[0;32m~/app/src/models/jtnn_vae.py\u001b[0m in \u001b[0;36mencode\u001b[0;34m(self, mol_batch)\u001b[0m\n\u001b[1;32m     66\u001b[0m         \u001b[0mmol_vec\u001b[0m \u001b[0;34m=\u001b[0m \u001b[0mcuda\u001b[0m\u001b[0;34m(\u001b[0m\u001b[0mself\u001b[0m\u001b[0;34m.\u001b[0m\u001b[0mmpn\u001b[0m\u001b[0;34m(\u001b[0m\u001b[0mmol_graphs\u001b[0m\u001b[0;34m)\u001b[0m\u001b[0;34m)\u001b[0m\u001b[0;34m\u001b[0m\u001b[0;34m\u001b[0m\u001b[0m\n\u001b[1;32m     67\u001b[0m \u001b[0;34m\u001b[0m\u001b[0m\n\u001b[0;32m---> 68\u001b[0;31m         \u001b[0mmol_tree_batch\u001b[0m\u001b[0;34m,\u001b[0m \u001b[0mtree_vec\u001b[0m \u001b[0;34m=\u001b[0m \u001b[0mself\u001b[0m\u001b[0;34m.\u001b[0m\u001b[0mjtnn\u001b[0m\u001b[0;34m(\u001b[0m\u001b[0mmol_batch\u001b[0m\u001b[0;34m[\u001b[0m\u001b[0;34m'mol_trees'\u001b[0m\u001b[0;34m]\u001b[0m\u001b[0;34m)\u001b[0m\u001b[0;34m\u001b[0m\u001b[0;34m\u001b[0m\u001b[0m\n\u001b[0m\u001b[1;32m     69\u001b[0m \u001b[0;34m\u001b[0m\u001b[0m\n\u001b[1;32m     70\u001b[0m         \u001b[0mself\u001b[0m\u001b[0;34m.\u001b[0m\u001b[0mn_nodes_total\u001b[0m \u001b[0;34m+=\u001b[0m \u001b[0mmol_graphs\u001b[0m\u001b[0;34m.\u001b[0m\u001b[0mnumber_of_nodes\u001b[0m\u001b[0;34m(\u001b[0m\u001b[0;34m)\u001b[0m\u001b[0;34m\u001b[0m\u001b[0;34m\u001b[0m\u001b[0m\n",
      "\u001b[0;32m~/app/env/lib/python3.7/site-packages/torch/nn/modules/module.py\u001b[0m in \u001b[0;36m__call__\u001b[0;34m(self, *input, **kwargs)\u001b[0m\n\u001b[1;32m    539\u001b[0m             \u001b[0mresult\u001b[0m \u001b[0;34m=\u001b[0m \u001b[0mself\u001b[0m\u001b[0;34m.\u001b[0m\u001b[0m_slow_forward\u001b[0m\u001b[0;34m(\u001b[0m\u001b[0;34m*\u001b[0m\u001b[0minput\u001b[0m\u001b[0;34m,\u001b[0m \u001b[0;34m**\u001b[0m\u001b[0mkwargs\u001b[0m\u001b[0;34m)\u001b[0m\u001b[0;34m\u001b[0m\u001b[0;34m\u001b[0m\u001b[0m\n\u001b[1;32m    540\u001b[0m         \u001b[0;32melse\u001b[0m\u001b[0;34m:\u001b[0m\u001b[0;34m\u001b[0m\u001b[0;34m\u001b[0m\u001b[0m\n\u001b[0;32m--> 541\u001b[0;31m             \u001b[0mresult\u001b[0m \u001b[0;34m=\u001b[0m \u001b[0mself\u001b[0m\u001b[0;34m.\u001b[0m\u001b[0mforward\u001b[0m\u001b[0;34m(\u001b[0m\u001b[0;34m*\u001b[0m\u001b[0minput\u001b[0m\u001b[0;34m,\u001b[0m \u001b[0;34m**\u001b[0m\u001b[0mkwargs\u001b[0m\u001b[0;34m)\u001b[0m\u001b[0;34m\u001b[0m\u001b[0;34m\u001b[0m\u001b[0m\n\u001b[0m\u001b[1;32m    542\u001b[0m         \u001b[0;32mfor\u001b[0m \u001b[0mhook\u001b[0m \u001b[0;32min\u001b[0m \u001b[0mself\u001b[0m\u001b[0;34m.\u001b[0m\u001b[0m_forward_hooks\u001b[0m\u001b[0;34m.\u001b[0m\u001b[0mvalues\u001b[0m\u001b[0;34m(\u001b[0m\u001b[0;34m)\u001b[0m\u001b[0;34m:\u001b[0m\u001b[0;34m\u001b[0m\u001b[0;34m\u001b[0m\u001b[0m\n\u001b[1;32m    543\u001b[0m             \u001b[0mhook_result\u001b[0m \u001b[0;34m=\u001b[0m \u001b[0mhook\u001b[0m\u001b[0;34m(\u001b[0m\u001b[0mself\u001b[0m\u001b[0;34m,\u001b[0m \u001b[0minput\u001b[0m\u001b[0;34m,\u001b[0m \u001b[0mresult\u001b[0m\u001b[0;34m)\u001b[0m\u001b[0;34m\u001b[0m\u001b[0;34m\u001b[0m\u001b[0m\n",
      "\u001b[0;32m~/app/src/models/modules/jtnn_enc.py\u001b[0m in \u001b[0;36mforward\u001b[0;34m(self, mol_trees)\u001b[0m\n\u001b[1;32m     65\u001b[0m         \u001b[0mmove_dgl_to_cuda\u001b[0m\u001b[0;34m(\u001b[0m\u001b[0mmol_tree_batch_lg\u001b[0m\u001b[0;34m)\u001b[0m\u001b[0;34m\u001b[0m\u001b[0;34m\u001b[0m\u001b[0m\n\u001b[1;32m     66\u001b[0m \u001b[0;34m\u001b[0m\u001b[0m\n\u001b[0;32m---> 67\u001b[0;31m         \u001b[0;32mreturn\u001b[0m \u001b[0mself\u001b[0m\u001b[0;34m.\u001b[0m\u001b[0mrun\u001b[0m\u001b[0;34m(\u001b[0m\u001b[0mmol_tree_batch\u001b[0m\u001b[0;34m,\u001b[0m \u001b[0mmol_tree_batch_lg\u001b[0m\u001b[0;34m)\u001b[0m\u001b[0;34m\u001b[0m\u001b[0;34m\u001b[0m\u001b[0m\n\u001b[0m\u001b[1;32m     68\u001b[0m \u001b[0;34m\u001b[0m\u001b[0m\n\u001b[1;32m     69\u001b[0m     \u001b[0;32mdef\u001b[0m \u001b[0mrun\u001b[0m\u001b[0;34m(\u001b[0m\u001b[0mself\u001b[0m\u001b[0;34m,\u001b[0m \u001b[0mmol_tree_batch\u001b[0m\u001b[0;34m,\u001b[0m \u001b[0mmol_tree_batch_lg\u001b[0m\u001b[0;34m)\u001b[0m\u001b[0;34m:\u001b[0m\u001b[0;34m\u001b[0m\u001b[0;34m\u001b[0m\u001b[0m\n",
      "\u001b[0;32m~/app/src/models/modules/jtnn_enc.py\u001b[0m in \u001b[0;36mrun\u001b[0;34m(self, mol_tree_batch, mol_tree_batch_lg)\u001b[0m\n\u001b[1;32m    115\u001b[0m                 \u001b[0menc_tree_msg\u001b[0m\u001b[0;34m,\u001b[0m\u001b[0;34m\u001b[0m\u001b[0;34m\u001b[0m\u001b[0m\n\u001b[1;32m    116\u001b[0m                 \u001b[0menc_tree_reduce\u001b[0m\u001b[0;34m,\u001b[0m\u001b[0;34m\u001b[0m\u001b[0;34m\u001b[0m\u001b[0m\n\u001b[0;32m--> 117\u001b[0;31m                 \u001b[0mself\u001b[0m\u001b[0;34m.\u001b[0m\u001b[0menc_tree_update\u001b[0m\u001b[0;34m,\u001b[0m\u001b[0;34m\u001b[0m\u001b[0;34m\u001b[0m\u001b[0m\n\u001b[0m\u001b[1;32m    118\u001b[0m             )\n\u001b[1;32m    119\u001b[0m \u001b[0;34m\u001b[0m\u001b[0m\n",
      "\u001b[0;32m~/app/env/lib/python3.7/site-packages/dgl-0.4-py3.7-linux-x86_64.egg/dgl/graph.py\u001b[0m in \u001b[0;36mpull\u001b[0;34m(self, v, message_func, reduce_func, apply_node_func, inplace)\u001b[0m\n\u001b[1;32m   2602\u001b[0m                                     \u001b[0mreduce_func\u001b[0m\u001b[0;34m=\u001b[0m\u001b[0mreduce_func\u001b[0m\u001b[0;34m,\u001b[0m\u001b[0;34m\u001b[0m\u001b[0;34m\u001b[0m\u001b[0m\n\u001b[1;32m   2603\u001b[0m                                     \u001b[0mapply_func\u001b[0m\u001b[0;34m=\u001b[0m\u001b[0mapply_node_func\u001b[0m\u001b[0;34m,\u001b[0m\u001b[0;34m\u001b[0m\u001b[0;34m\u001b[0m\u001b[0m\n\u001b[0;32m-> 2604\u001b[0;31m                                     inplace=inplace)\n\u001b[0m\u001b[1;32m   2605\u001b[0m             \u001b[0mRuntime\u001b[0m\u001b[0;34m.\u001b[0m\u001b[0mrun\u001b[0m\u001b[0;34m(\u001b[0m\u001b[0mprog\u001b[0m\u001b[0;34m)\u001b[0m\u001b[0;34m\u001b[0m\u001b[0;34m\u001b[0m\u001b[0m\n\u001b[1;32m   2606\u001b[0m \u001b[0;34m\u001b[0m\u001b[0m\n",
      "\u001b[0;32m~/app/env/lib/python3.7/site-packages/dgl-0.4-py3.7-linux-x86_64.egg/dgl/runtime/scheduler.py\u001b[0m in \u001b[0;36mschedule_pull\u001b[0;34m(graph, pull_nodes, message_func, reduce_func, apply_func, inplace, outframe)\u001b[0m\n\u001b[1;32m    493\u001b[0m                                         \u001b[0mmessage_func\u001b[0m\u001b[0;34m,\u001b[0m \u001b[0mreduce_func\u001b[0m\u001b[0;34m,\u001b[0m \u001b[0mvar_eid\u001b[0m\u001b[0;34m,\u001b[0m\u001b[0;34m\u001b[0m\u001b[0;34m\u001b[0m\u001b[0m\n\u001b[1;32m    494\u001b[0m                                         \u001b[0mvar_pull_nodes\u001b[0m\u001b[0;34m,\u001b[0m \u001b[0muv_getter\u001b[0m\u001b[0;34m,\u001b[0m \u001b[0madj_creator\u001b[0m\u001b[0;34m,\u001b[0m\u001b[0;34m\u001b[0m\u001b[0;34m\u001b[0m\u001b[0m\n\u001b[0;32m--> 495\u001b[0;31m                                         out_map_creator)\n\u001b[0m\u001b[1;32m    496\u001b[0m         \u001b[0;31m# generate optional apply\u001b[0m\u001b[0;34m\u001b[0m\u001b[0;34m\u001b[0m\u001b[0;34m\u001b[0m\u001b[0m\n\u001b[1;32m    497\u001b[0m         final_feat = _apply_with_accum(var_pull_nodes, var_dst_nf,\n",
      "\u001b[0;32m~/app/env/lib/python3.7/site-packages/dgl-0.4-py3.7-linux-x86_64.egg/dgl/runtime/scheduler.py\u001b[0m in \u001b[0;36m_gen_send_reduce\u001b[0;34m(src_node_frame, dst_node_frame, edge_frame, message_func, reduce_func, var_send_edges, var_reduce_nodes, uv_getter, adj_creator, out_map_creator)\u001b[0m\n\u001b[1;32m    879\u001b[0m     \u001b[0;31m# output id\u001b[0m\u001b[0;34m\u001b[0m\u001b[0;34m\u001b[0m\u001b[0;34m\u001b[0m\u001b[0m\n\u001b[1;32m    880\u001b[0m     \u001b[0;32mif\u001b[0m \u001b[0mrfunc_is_list\u001b[0m\u001b[0;34m:\u001b[0m\u001b[0;34m\u001b[0m\u001b[0;34m\u001b[0m\u001b[0m\n\u001b[0;32m--> 881\u001b[0;31m         \u001b[0mout_map\u001b[0m \u001b[0;34m=\u001b[0m \u001b[0mout_map_creator\u001b[0m\u001b[0;34m(\u001b[0m\u001b[0mnbits\u001b[0m\u001b[0;34m)\u001b[0m\u001b[0;34m\u001b[0m\u001b[0;34m\u001b[0m\u001b[0m\n\u001b[0m\u001b[1;32m    882\u001b[0m \u001b[0;34m\u001b[0m\u001b[0m\n\u001b[1;32m    883\u001b[0m     \u001b[0;31m# 3. First try fused message and reduce function\u001b[0m\u001b[0;34m\u001b[0m\u001b[0;34m\u001b[0m\u001b[0;34m\u001b[0m\u001b[0m\n",
      "\u001b[0;32m~/app/env/lib/python3.7/site-packages/dgl-0.4-py3.7-linux-x86_64.egg/dgl/runtime/scheduler.py\u001b[0m in \u001b[0;36m<lambda>\u001b[0;34m(nbits)\u001b[0m\n\u001b[1;32m    488\u001b[0m         adj_creator = lambda: spmv.build_gidx_and_mapping_uv(\n\u001b[1;32m    489\u001b[0m             (u, v, eid), graph.num_src(), graph.num_dst())\n\u001b[0;32m--> 490\u001b[0;31m         \u001b[0mout_map_creator\u001b[0m \u001b[0;34m=\u001b[0m \u001b[0;32mlambda\u001b[0m \u001b[0mnbits\u001b[0m\u001b[0;34m:\u001b[0m \u001b[0m_build_idx_map\u001b[0m\u001b[0;34m(\u001b[0m\u001b[0mpull_nodes\u001b[0m\u001b[0;34m,\u001b[0m \u001b[0mnbits\u001b[0m\u001b[0;34m)\u001b[0m\u001b[0;34m\u001b[0m\u001b[0;34m\u001b[0m\u001b[0m\n\u001b[0m\u001b[1;32m    491\u001b[0m         reduced_feat = _gen_send_reduce(graph.srcframe,\n\u001b[1;32m    492\u001b[0m                                         \u001b[0mgraph\u001b[0m\u001b[0;34m.\u001b[0m\u001b[0mdstframe\u001b[0m\u001b[0;34m,\u001b[0m \u001b[0mgraph\u001b[0m\u001b[0;34m.\u001b[0m\u001b[0medgeframe\u001b[0m\u001b[0;34m,\u001b[0m\u001b[0;34m\u001b[0m\u001b[0;34m\u001b[0m\u001b[0m\n",
      "\u001b[0;32m~/app/env/lib/python3.7/site-packages/dgl-0.4-py3.7-linux-x86_64.egg/dgl/runtime/scheduler.py\u001b[0m in \u001b[0;36m_build_idx_map\u001b[0;34m(idx, nbits)\u001b[0m\n\u001b[1;32m   1015\u001b[0m     \"\"\"\n\u001b[1;32m   1016\u001b[0m     \u001b[0mx\u001b[0m \u001b[0;34m=\u001b[0m \u001b[0midx\u001b[0m\u001b[0;34m.\u001b[0m\u001b[0mtousertensor\u001b[0m\u001b[0;34m(\u001b[0m\u001b[0;34m)\u001b[0m\u001b[0;34m\u001b[0m\u001b[0;34m\u001b[0m\u001b[0m\n\u001b[0;32m-> 1017\u001b[0;31m     \u001b[0mmap_len\u001b[0m \u001b[0;34m=\u001b[0m \u001b[0mint\u001b[0m\u001b[0;34m(\u001b[0m\u001b[0mF\u001b[0m\u001b[0;34m.\u001b[0m\u001b[0masnumpy\u001b[0m\u001b[0;34m(\u001b[0m\u001b[0mF\u001b[0m\u001b[0;34m.\u001b[0m\u001b[0mmax\u001b[0m\u001b[0;34m(\u001b[0m\u001b[0mx\u001b[0m\u001b[0;34m,\u001b[0m \u001b[0mdim\u001b[0m\u001b[0;34m=\u001b[0m\u001b[0;36m0\u001b[0m\u001b[0;34m)\u001b[0m\u001b[0;34m)\u001b[0m\u001b[0;34m)\u001b[0m \u001b[0;34m+\u001b[0m \u001b[0;36m1\u001b[0m\u001b[0;34m\u001b[0m\u001b[0;34m\u001b[0m\u001b[0m\n\u001b[0m\u001b[1;32m   1018\u001b[0m     \u001b[0mold_to_new\u001b[0m \u001b[0;34m=\u001b[0m \u001b[0mF\u001b[0m\u001b[0;34m.\u001b[0m\u001b[0mfull_1d\u001b[0m\u001b[0;34m(\u001b[0m\u001b[0mmap_len\u001b[0m\u001b[0;34m,\u001b[0m \u001b[0;34m-\u001b[0m\u001b[0;36m1\u001b[0m\u001b[0;34m,\u001b[0m \u001b[0mdtype\u001b[0m\u001b[0;34m=\u001b[0m\u001b[0mF\u001b[0m\u001b[0;34m.\u001b[0m\u001b[0mint64\u001b[0m\u001b[0;34m,\u001b[0m \u001b[0mctx\u001b[0m\u001b[0;34m=\u001b[0m\u001b[0mF\u001b[0m\u001b[0;34m.\u001b[0m\u001b[0mcpu\u001b[0m\u001b[0;34m(\u001b[0m\u001b[0;34m)\u001b[0m\u001b[0;34m)\u001b[0m\u001b[0;34m\u001b[0m\u001b[0;34m\u001b[0m\u001b[0m\n\u001b[1;32m   1019\u001b[0m     \u001b[0mF\u001b[0m\u001b[0;34m.\u001b[0m\u001b[0mscatter_row_inplace\u001b[0m\u001b[0;34m(\u001b[0m\u001b[0mold_to_new\u001b[0m\u001b[0;34m,\u001b[0m \u001b[0mx\u001b[0m\u001b[0;34m,\u001b[0m \u001b[0mF\u001b[0m\u001b[0;34m.\u001b[0m\u001b[0marange\u001b[0m\u001b[0;34m(\u001b[0m\u001b[0;36m0\u001b[0m\u001b[0;34m,\u001b[0m \u001b[0mlen\u001b[0m\u001b[0;34m(\u001b[0m\u001b[0mx\u001b[0m\u001b[0;34m)\u001b[0m\u001b[0;34m)\u001b[0m\u001b[0;34m)\u001b[0m\u001b[0;34m\u001b[0m\u001b[0;34m\u001b[0m\u001b[0m\n",
      "\u001b[0;32m~/app/env/lib/python3.7/site-packages/dgl-0.4-py3.7-linux-x86_64.egg/dgl/backend/pytorch/tensor.py\u001b[0m in \u001b[0;36mmax\u001b[0;34m(input, dim)\u001b[0m\n\u001b[1;32m    107\u001b[0m \u001b[0;32mdef\u001b[0m \u001b[0mmax\u001b[0m\u001b[0;34m(\u001b[0m\u001b[0minput\u001b[0m\u001b[0;34m,\u001b[0m \u001b[0mdim\u001b[0m\u001b[0;34m)\u001b[0m\u001b[0;34m:\u001b[0m\u001b[0;34m\u001b[0m\u001b[0;34m\u001b[0m\u001b[0m\n\u001b[1;32m    108\u001b[0m     \u001b[0;31m# NOTE: the second argmax array is not returned\u001b[0m\u001b[0;34m\u001b[0m\u001b[0;34m\u001b[0m\u001b[0;34m\u001b[0m\u001b[0m\n\u001b[0;32m--> 109\u001b[0;31m     \u001b[0;32mreturn\u001b[0m \u001b[0mth\u001b[0m\u001b[0;34m.\u001b[0m\u001b[0mmax\u001b[0m\u001b[0;34m(\u001b[0m\u001b[0minput\u001b[0m\u001b[0;34m,\u001b[0m \u001b[0mdim\u001b[0m\u001b[0;34m=\u001b[0m\u001b[0mdim\u001b[0m\u001b[0;34m)\u001b[0m\u001b[0;34m[\u001b[0m\u001b[0;36m0\u001b[0m\u001b[0;34m]\u001b[0m\u001b[0;34m\u001b[0m\u001b[0;34m\u001b[0m\u001b[0m\n\u001b[0m\u001b[1;32m    110\u001b[0m \u001b[0;34m\u001b[0m\u001b[0m\n\u001b[1;32m    111\u001b[0m \u001b[0;32mdef\u001b[0m \u001b[0mreduce_max\u001b[0m\u001b[0;34m(\u001b[0m\u001b[0minput\u001b[0m\u001b[0;34m)\u001b[0m\u001b[0;34m:\u001b[0m\u001b[0;34m\u001b[0m\u001b[0;34m\u001b[0m\u001b[0m\n",
      "\u001b[0;31mKeyboardInterrupt\u001b[0m: "
     ]
    }
   ],
   "source": [
    "import warnings; warnings.simplefilter('ignore')\n",
    "train() "
   ]
  },
  {
   "cell_type": "markdown",
   "metadata": {},
   "source": [
    "## References\n",
    "\n",
    "<div class=\"cite2c-biblio\"></div>"
   ]
  },
  {
   "cell_type": "code",
   "execution_count": null,
   "metadata": {},
   "outputs": [],
   "source": [
    "def test():\n",
    "    dataset.training = False\n",
    "    dataloader = DataLoader(\n",
    "            dataset,\n",
    "            batch_size=1,\n",
    "            shuffle=False,\n",
    "            num_workers=0,\n",
    "            collate_fn=JTNNCollator(vocab, False),\n",
    "            drop_last=True,\n",
    "            worker_init_fn=None)#worker_init_fn)\n",
    "\n",
    "    # Just an example of molecule decoding; in reality you may want to sample\n",
    "    # tree and molecule vectors.\n",
    "    for it, batch in enumerate(dataloader):\n",
    "        #print(batch['mol_trees'])\n",
    "        gt_smiles = batch['mol_trees'][0].smiles\n",
    "        #print(gt_smiles)\n",
    "        model.move_to_cuda(batch)\n",
    "        _, tree_vec, mol_vec = model.encode(batch)\n",
    "        tree_vec, mol_vec, _, _ = model.sample(tree_vec, mol_vec)\n",
    "        smiles = model.decode(tree_vec, mol_vec)\n",
    "        print(smiles)"
   ]
  },
  {
   "cell_type": "code",
   "execution_count": null,
   "metadata": {},
   "outputs": [],
   "source": [
    "torch.cuda.empty_cache()\n",
    "test()"
   ]
  },
  {
   "cell_type": "code",
   "execution_count": null,
   "metadata": {},
   "outputs": [],
   "source": []
  },
  {
   "cell_type": "code",
   "execution_count": null,
   "metadata": {},
   "outputs": [],
   "source": []
  }
 ],
 "metadata": {
  "cite2c": {
   "citations": {
    "7333468/6Y976JUQ": {
     "DOI": "10.24963/ijcai.2019/727",
     "URL": "https://doi.org/10.24963/ijcai.2019/727",
     "author": [
      {
       "family": "Wang",
       "given": "Tianming"
      },
      {
       "family": "Wan",
       "given": "Xiaojun"
      }
     ],
     "container-title": "Proceedings of the Twenty-Eighth International Joint Conference on Artificial Intelligence, IJCAI-19",
     "id": "7333468/6Y976JUQ",
     "issued": {
      "year": 2019
     },
     "page": "5233–5239",
     "page-first": "5233",
     "publisher": "International Joint Conferences on Artificial Intelligence Organization",
     "title": "T-CVAE: Transformer-Based Conditioned Variational Autoencoder for Story Completion",
     "type": "paper-conference"
    }
   }
  },
  "kernelspec": {
   "display_name": "Python [conda env:env] *",
   "language": "python",
   "name": "conda-env-env-py"
  },
  "language_info": {
   "codemirror_mode": {
    "name": "ipython",
    "version": 3
   },
   "file_extension": ".py",
   "mimetype": "text/x-python",
   "name": "python",
   "nbconvert_exporter": "python",
   "pygments_lexer": "ipython3",
   "version": "3.7.5"
  }
 },
 "nbformat": 4,
 "nbformat_minor": 4
}
