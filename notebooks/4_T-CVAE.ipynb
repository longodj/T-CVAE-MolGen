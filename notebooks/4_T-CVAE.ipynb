{
 "cells": [
  {
   "cell_type": "code",
   "execution_count": 10,
   "metadata": {},
   "outputs": [],
   "source": [
    "import copy\n",
    "from dgl import batch, unbatch\n",
    "import rdkit.Chem as Chem\n",
    "from rdkit import RDLogger\n",
    "import torch\n",
    "import torch.nn as nn\n",
    "import torch.nn.functional as F\n",
    "\n",
    "#from .nnutils import cuda, move_dgl_to_cuda\n",
    "\n",
    "#from .jtnn_enc import DGLJTNNEncoder\n",
    "#from .jtnn_dec import DGLJTNNDecoder\n",
    "#from .mpn import DGLMPN\n",
    "#from .mpn import mol2dgl_single as mol2dgl_enc\n",
    "#from .jtmpn import DGLJTMPN\n",
    "#from .jtmpn import mol2dgl_single as mol2dgl_dec\n",
    "\n",
    "import os,sys,inspect\n",
    "from tqdm import tqdm\n",
    "sys.path.insert(0,'/home/icarus/T-CVAE-MolGen/src')\n",
    "\n",
    "from utils.chemutils import set_atommap, copy_edit_mol, enum_assemble_nx, \\\n",
    "                            attach_mols_nx, decode_stereo\n",
    "\n",
    "lg = RDLogger.logger()\n",
    "\n",
    "lg.setLevel(RDLogger.CRITICAL)"
   ]
  },
  {
   "cell_type": "code",
   "execution_count": 11,
   "metadata": {},
   "outputs": [],
   "source": [
    "class TCVAE(nn.Module):\n",
    "    def __init__(self, vocab, hidden_size, latent_size, depth):\n",
    "        super(TCVAE, self).__init__()\n",
    "        self.vocab = vocab\n",
    "        self.hidden_size = hidden_size\n",
    "        self.latent_size = latent_size\n",
    "        self.depth = depth\n",
    "        \n",
    "        self.embedding = nn.Embedding(vocab.size(), hidden_size)\n",
    "        self.mpn = MPN(hidden_size, depth)\n",
    "        self.encoder = None  #\n",
    "        self.decoder = None  #\n",
    "        \n",
    "        self.T_mean, self.T_var = nn.Linear(hidden_size, latent_size // 2), \\\n",
    "                                  nn.Linear(hidden_size, latent_size // 2)\n",
    "        self.G_mean, self.G_var = nn.Linear(hidden_size, latent_size // 2), \\\n",
    "                                  nn.Linear(hidden_size, latent_size // 2)\n",
    "            \n",
    "        self.n_nodes_total = 0\n",
    "        self.n_edges_total = 0\n",
    "        self.n_passes = 0"
   ]
  },
  {
   "cell_type": "markdown",
   "metadata": {},
   "source": [
    "## Posterior\n",
    "\n",
    "As in <cite data-cite=\"7333468/6Y976JUQ\"></cite>\n",
    "\n",
    "$q(z|x,y) \\sim N(\\mu,\\sigma^2I)$, where\n",
    "\n",
    "$\\quad\\quad h = \\text{MultiHead}(c,E_\\text{out}^L(x;y),E_\\text{out}^L(x;y))$\n",
    "\n",
    "$\\quad\\quad \\begin{bmatrix}\\mu\\\\\\log(\\sigma^2)\\end{bmatrix} = hW_q+b_q$"
   ]
  },
  {
   "cell_type": "code",
   "execution_count": null,
   "metadata": {},
   "outputs": [],
   "source": [
    "    def sample_posterior(self, prob_decode=False):\n",
    "        return"
   ]
  },
  {
   "cell_type": "markdown",
   "metadata": {},
   "source": [
    "### Prior\n",
    "\n",
    "As in <cite data-cite=\"7333468/6Y976JUQ\"></cite>\n",
    "\n",
    "$p_\\theta (z|x) \\sim N(\\mu', \\sigma'^2 I)$, where:\n",
    "\n",
    "$\\quad\\quad h' = \\text{MultiHead}(c, E_\\text{out}^L(x), E_\\text{out}^L(x))$\n",
    "\n",
    "$\\quad\\quad \\begin{bmatrix}\\mu'\\\\\\log(\\sigma'^2)\\end{bmatrix} = MLP_p(h')$"
   ]
  },
  {
   "cell_type": "code",
   "execution_count": 12,
   "metadata": {},
   "outputs": [],
   "source": [
    "    def sample_prior(self, prob_decode=False):\n",
    "        return"
   ]
  },
  {
   "cell_type": "markdown",
   "metadata": {},
   "source": [
    "## References\n",
    "\n",
    "<div class=\"cite2c-biblio\"></div>"
   ]
  },
  {
   "cell_type": "code",
   "execution_count": null,
   "metadata": {},
   "outputs": [],
   "source": []
  }
 ],
 "metadata": {
  "cite2c": {
   "citations": {
    "7333468/6Y976JUQ": {
     "DOI": "10.24963/ijcai.2019/727",
     "URL": "https://doi.org/10.24963/ijcai.2019/727",
     "author": [
      {
       "family": "Wang",
       "given": "Tianming"
      },
      {
       "family": "Wan",
       "given": "Xiaojun"
      }
     ],
     "container-title": "Proceedings of the Twenty-Eighth International Joint Conference on Artificial Intelligence, IJCAI-19",
     "id": "7333468/6Y976JUQ",
     "issued": {
      "year": 2019
     },
     "page": "5233–5239",
     "page-first": "5233",
     "publisher": "International Joint Conferences on Artificial Intelligence Organization",
     "title": "T-CVAE: Transformer-Based Conditioned Variational Autoencoder for Story Completion",
     "type": "paper-conference"
    }
   }
  },
  "kernelspec": {
   "display_name": "Python [conda env:tcvaemolgen] *",
   "language": "python",
   "name": "conda-env-tcvaemolgen-py"
  },
  "language_info": {
   "codemirror_mode": {
    "name": "ipython",
    "version": 3
   },
   "file_extension": ".py",
   "mimetype": "text/x-python",
   "name": "python",
   "nbconvert_exporter": "python",
   "pygments_lexer": "ipython3",
   "version": "3.7.5"
  }
 },
 "nbformat": 4,
 "nbformat_minor": 2
}
